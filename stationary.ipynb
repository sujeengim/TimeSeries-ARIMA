{
 "cells": [
  {
   "cell_type": "code",
   "execution_count": 1,
   "id": "08728a9d-894e-454b-9671-1b28c734ce39",
   "metadata": {},
   "outputs": [
    {
     "name": "stdout",
     "output_type": "stream",
     "text": [
      "count    1000.000000\n",
      "mean       -0.022364\n",
      "std         0.989596\n",
      "min        -3.182495\n",
      "25%        -0.677683\n",
      "50%        -0.041657\n",
      "75%         0.637597\n",
      "max         3.113778\n",
      "dtype: float64\n"
     ]
    },
    {
     "data": {
      "image/png": "[encoded data removed]",
      "text/plain": [
       "<Figure size 432x288 with 1 Axes>"
      ]
     },
     "metadata": {
      "needs_background": "light"
     },
     "output_type": "display_data"
    }
   ],
   "source": [
    "from random import gauss\n",
    "from pandas import Series\n",
    "import matplotlib.pyplot as plt\n",
    "\n",
    "series = [gauss(0.0, 1.0) for i in range(1000)]\n",
    "# random.gauss(평균, 표준편차) : 가우스 분포의 난수 반환.\n",
    "series = Series(series)\n",
    "# Series : 데이터프레임 하위 자료형. 1개 열->시리즈, 시리즈 모임->데이터프레임\n",
    "print(series.describe())\n",
    "series.plot()\n",
    "plt.show()"
   ]
  },
  {
   "cell_type": "code",
   "execution_count": 2,
   "id": "fe301641-1b0e-4267-bdaa-298b9ed0586e",
   "metadata": {},
   "outputs": [],
   "source": [
    "import pandas as pd\n",
    "\n",
    "import numpy as np\n",
    "\n",
    "import matplotlib.pyplot as plt\n",
    "\n",
    "from sklearn.model_selection import train_test_split\n",
    "\n",
    "from pmdarima.arima import auto_arima\n",
    "from pmdarima.arima import ndiffs\n",
    "\n",
    "from statsmodels.graphics.tsaplots import plot_acf, plot_pacf\n",
    "from statsmodels.tsa.stattools import adfuller\n",
    "from statsmodels.tsa.arima.model import ARIMA\n",
    "from statsmodels.tsa.statespace.sarimax import SARIMAX"
   ]
  },
  {
   "cell_type": "code",
   "execution_count": 7,
   "id": "faa18d70-fe58-440c-9565-4af21ce818e1",
   "metadata": {},
   "outputs": [
    {
     "data": {
      "text/html": [
       "<div>\n",
       "<style scoped>\n",
       "    .dataframe tbody tr th:only-of-type {\n",
       "        vertical-align: middle;\n",
       "    }\n",
       "\n",
       "    .dataframe tbody tr th {\n",
       "        vertical-align: top;\n",
       "    }\n",
       "\n",
       "    .dataframe thead th {\n",
       "        text-align: right;\n",
       "    }\n",
       "</style>\n",
       "<table border=\"1\" class=\"dataframe\">\n",
       "  <thead>\n",
       "    <tr style=\"text-align: right;\">\n",
       "      <th></th>\n",
       "      <th>y</th>\n",
       "    </tr>\n",
       "  </thead>\n",
       "  <tbody>\n",
       "    <tr>\n",
       "      <th>0</th>\n",
       "      <td>-0.258020</td>\n",
       "    </tr>\n",
       "    <tr>\n",
       "      <th>1</th>\n",
       "      <td>-0.088756</td>\n",
       "    </tr>\n",
       "    <tr>\n",
       "      <th>2</th>\n",
       "      <td>-0.094781</td>\n",
       "    </tr>\n",
       "    <tr>\n",
       "      <th>3</th>\n",
       "      <td>1.310684</td>\n",
       "    </tr>\n",
       "    <tr>\n",
       "      <th>4</th>\n",
       "      <td>-0.334828</td>\n",
       "    </tr>\n",
       "    <tr>\n",
       "      <th>...</th>\n",
       "      <td>...</td>\n",
       "    </tr>\n",
       "    <tr>\n",
       "      <th>995</th>\n",
       "      <td>0.628176</td>\n",
       "    </tr>\n",
       "    <tr>\n",
       "      <th>996</th>\n",
       "      <td>-0.257875</td>\n",
       "    </tr>\n",
       "    <tr>\n",
       "      <th>997</th>\n",
       "      <td>-0.477307</td>\n",
       "    </tr>\n",
       "    <tr>\n",
       "      <th>998</th>\n",
       "      <td>0.231304</td>\n",
       "    </tr>\n",
       "    <tr>\n",
       "      <th>999</th>\n",
       "      <td>-0.192659</td>\n",
       "    </tr>\n",
       "  </tbody>\n",
       "</table>\n",
       "<p>1000 rows × 1 columns</p>\n",
       "</div>"
      ],
      "text/plain": [
       "            y\n",
       "0   -0.258020\n",
       "1   -0.088756\n",
       "2   -0.094781\n",
       "3    1.310684\n",
       "4   -0.334828\n",
       "..        ...\n",
       "995  0.628176\n",
       "996 -0.257875\n",
       "997 -0.477307\n",
       "998  0.231304\n",
       "999 -0.192659\n",
       "\n",
       "[1000 rows x 1 columns]"
      ]
     },
     "execution_count": 7,
     "metadata": {},
     "output_type": "execute_result"
    }
   ],
   "source": [
    "data = pd.DataFrame([series])\n",
    "data = data.transpose()\n",
    "data = data.rename(columns={\n",
    "    0:'y'\n",
    "})\n",
    "data"
   ]
  },
  {
   "cell_type": "code",
   "execution_count": null,
   "id": "12d4433f-c183-4227-a2f1-d8837b638328",
   "metadata": {},
   "outputs": [],
   "source": []
  },
  {
   "cell_type": "code",
   "execution_count": 8,
   "id": "398fd808-639b-453c-a3d8-086221001d5b",
   "metadata": {},
   "outputs": [
    {
     "name": "stdout",
     "output_type": "stream",
     "text": [
      "Performing stepwise search to minimize aic\n",
      " ARIMA(2,0,2)(1,0,1)[12] intercept   : AIC=inf, Time=3.39 sec\n",
      " ARIMA(0,0,0)(0,0,0)[12] intercept   : AIC=2819.960, Time=0.14 sec\n",
      " ARIMA(1,0,0)(1,0,0)[12] intercept   : AIC=2823.371, Time=0.29 sec\n",
      " ARIMA(0,0,1)(0,0,1)[12] intercept   : AIC=2823.425, Time=0.34 sec\n",
      " ARIMA(0,0,0)(0,0,0)[12]             : AIC=2818.471, Time=0.06 sec\n",
      " ARIMA(0,0,0)(1,0,0)[12] intercept   : AIC=2821.742, Time=0.22 sec\n",
      " ARIMA(0,0,0)(0,0,1)[12] intercept   : AIC=2821.767, Time=0.23 sec\n",
      " ARIMA(0,0,0)(1,0,1)[12] intercept   : AIC=inf, Time=0.96 sec\n",
      " ARIMA(1,0,0)(0,0,0)[12] intercept   : AIC=2821.592, Time=0.11 sec\n",
      " ARIMA(0,0,1)(0,0,0)[12] intercept   : AIC=2821.622, Time=0.12 sec\n",
      " ARIMA(1,0,1)(0,0,0)[12] intercept   : AIC=2823.235, Time=0.44 sec\n",
      "\n",
      "Best model:  ARIMA(0,0,0)(0,0,0)[12]          \n",
      "Total fit time: 6.322 seconds\n"
     ]
    },
    {
     "data": {
      "text/plain": [
       "ARIMA(order=(0, 0, 0), scoring_args={}, seasonal_order=(0, 0, 0, 12),\n",
       "      suppress_warnings=True, with_intercept=False)"
      ]
     },
     "execution_count": 8,
     "metadata": {},
     "output_type": "execute_result"
    }
   ],
   "source": [
    "model = auto_arima(data, d = 0, m=12, seasonal = True, trace = True)\n",
    "model.fit(data)"
   ]
  },
  {
   "cell_type": "code",
   "execution_count": 9,
   "id": "ad0ac390-161d-48fd-83b7-0e9a7bdd223d",
   "metadata": {},
   "outputs": [
    {
     "name": "stdout",
     "output_type": "stream",
     "text": [
      "Performing stepwise search to minimize aic\n",
      " ARIMA(2,0,2)(1,0,1)[52] intercept   : AIC=inf, Time=25.11 sec\n",
      " ARIMA(0,0,0)(0,0,0)[52] intercept   : AIC=2819.960, Time=0.13 sec\n",
      " ARIMA(1,0,0)(1,0,0)[52] intercept   : AIC=2823.279, Time=3.00 sec\n",
      " ARIMA(0,0,1)(0,0,1)[52] intercept   : AIC=2823.277, Time=2.09 sec\n",
      " ARIMA(0,0,0)(0,0,0)[52]             : AIC=2818.471, Time=0.04 sec\n",
      " ARIMA(0,0,0)(1,0,0)[52] intercept   : AIC=2821.599, Time=2.27 sec\n",
      " ARIMA(0,0,0)(0,0,1)[52] intercept   : AIC=2821.567, Time=2.23 sec\n",
      " ARIMA(0,0,0)(1,0,1)[52] intercept   : AIC=2822.812, Time=4.56 sec\n",
      " ARIMA(1,0,0)(0,0,0)[52] intercept   : AIC=2821.592, Time=0.10 sec\n",
      " ARIMA(0,0,1)(0,0,0)[52] intercept   : AIC=2821.622, Time=0.15 sec\n",
      " ARIMA(1,0,1)(0,0,0)[52] intercept   : AIC=2823.235, Time=0.43 sec\n",
      "\n",
      "Best model:  ARIMA(0,0,0)(0,0,0)[52]          \n",
      "Total fit time: 40.151 seconds\n"
     ]
    },
    {
     "data": {
      "text/plain": [
       "ARIMA(order=(0, 0, 0), scoring_args={}, seasonal_order=(0, 0, 0, 52),\n",
       "      suppress_warnings=True, with_intercept=False)"
      ]
     },
     "execution_count": 9,
     "metadata": {},
     "output_type": "execute_result"
    }
   ],
   "source": [
    "model = auto_arima(data, d = 0, m=52, seasonal = True, trace = True)\n",
    "model.fit(data)"
   ]
  },
  {
   "cell_type": "code",
   "execution_count": 10,
   "id": "d9a5af74-2bb1-4145-94d8-cfe822482885",
   "metadata": {},
   "outputs": [
    {
     "name": "stdout",
     "output_type": "stream",
     "text": [
      "Performing stepwise search to minimize aic\n",
      " ARIMA(2,0,2)(1,0,1)[7] intercept   : AIC=2821.206, Time=3.15 sec\n",
      " ARIMA(0,0,0)(0,0,0)[7] intercept   : AIC=2819.960, Time=0.12 sec\n",
      " ARIMA(1,0,0)(1,0,0)[7] intercept   : AIC=2822.795, Time=0.24 sec\n",
      " ARIMA(0,0,1)(0,0,1)[7] intercept   : AIC=2822.809, Time=0.25 sec\n",
      " ARIMA(0,0,0)(0,0,0)[7]             : AIC=2818.471, Time=0.08 sec\n",
      " ARIMA(0,0,0)(1,0,0)[7] intercept   : AIC=2821.150, Time=0.17 sec\n",
      " ARIMA(0,0,0)(0,0,1)[7] intercept   : AIC=2821.134, Time=0.17 sec\n",
      " ARIMA(0,0,0)(1,0,1)[7] intercept   : AIC=2823.085, Time=0.21 sec\n",
      " ARIMA(1,0,0)(0,0,0)[7] intercept   : AIC=2821.592, Time=0.09 sec\n",
      " ARIMA(0,0,1)(0,0,0)[7] intercept   : AIC=2821.622, Time=0.12 sec\n",
      " ARIMA(1,0,1)(0,0,0)[7] intercept   : AIC=2823.235, Time=0.44 sec\n",
      "\n",
      "Best model:  ARIMA(0,0,0)(0,0,0)[7]          \n",
      "Total fit time: 5.080 seconds\n"
     ]
    },
    {
     "data": {
      "text/plain": [
       "ARIMA(order=(0, 0, 0), scoring_args={}, seasonal_order=(0, 0, 0, 7),\n",
       "      suppress_warnings=True, with_intercept=False)"
      ]
     },
     "execution_count": 10,
     "metadata": {},
     "output_type": "execute_result"
    }
   ],
   "source": [
    "model7 = auto_arima(data, d = 0, m=7, seasonal = True, trace = True)\n",
    "model7.fit(data)"
   ]
  },
  {
   "cell_type": "code",
   "execution_count": 11,
   "id": "ceaebb0d-18a2-47c2-8c4e-3ff6da577876",
   "metadata": {},
   "outputs": [
    {
     "name": "stdout",
     "output_type": "stream",
     "text": [
      "Performing stepwise search to minimize aic\n",
      " ARIMA(2,0,2)(0,0,0)[0]             : AIC=2816.710, Time=0.94 sec\n",
      " ARIMA(0,0,0)(0,0,0)[0]             : AIC=2818.471, Time=0.05 sec\n",
      " ARIMA(1,0,0)(0,0,0)[0]             : AIC=2820.084, Time=0.05 sec\n",
      " ARIMA(0,0,1)(0,0,0)[0]             : AIC=2820.116, Time=0.07 sec\n",
      " ARIMA(1,0,2)(0,0,0)[0]             : AIC=2821.500, Time=0.20 sec\n",
      " ARIMA(2,0,1)(0,0,0)[0]             : AIC=2823.195, Time=0.12 sec\n",
      " ARIMA(3,0,2)(0,0,0)[0]             : AIC=2824.022, Time=1.08 sec\n",
      " ARIMA(2,0,3)(0,0,0)[0]             : AIC=2815.481, Time=0.93 sec\n",
      " ARIMA(1,0,3)(0,0,0)[0]             : AIC=2822.473, Time=0.41 sec\n",
      " ARIMA(3,0,3)(0,0,0)[0]             : AIC=2819.945, Time=1.22 sec\n",
      " ARIMA(2,0,4)(0,0,0)[0]             : AIC=2817.077, Time=1.15 sec\n",
      " ARIMA(1,0,4)(0,0,0)[0]             : AIC=2823.883, Time=0.39 sec\n",
      " ARIMA(3,0,4)(0,0,0)[0]             : AIC=2819.412, Time=0.99 sec\n",
      " ARIMA(2,0,3)(0,0,0)[0] intercept   : AIC=2817.010, Time=1.70 sec\n",
      "\n",
      "Best model:  ARIMA(2,0,3)(0,0,0)[0]          \n",
      "Total fit time: 9.317 seconds\n"
     ]
    },
    {
     "data": {
      "text/plain": [
       "ARIMA(order=(2, 0, 3), scoring_args={}, suppress_warnings=True,\n",
       "      with_intercept=False)"
      ]
     },
     "execution_count": 11,
     "metadata": {},
     "output_type": "execute_result"
    }
   ],
   "source": [
    "model0 = auto_arima(data, d = 0, m=1, seasonal = False, trace = True)\n",
    "model0.fit(data)"
   ]
  },
  {
   "cell_type": "code",
   "execution_count": 12,
   "id": "c24bc788-85fc-4d40-9295-2a88e153e167",
   "metadata": {},
   "outputs": [
    {
     "name": "stdout",
     "output_type": "stream",
     "text": [
      "                               SARIMAX Results                                \n",
      "==============================================================================\n",
      "Dep. Variable:                      y   No. Observations:                 1000\n",
      "Model:                        SARIMAX   Log Likelihood               -1408.236\n",
      "Date:                Mon, 06 Feb 2023   AIC                           2818.471\n",
      "Time:                        13:36:42   BIC                           2823.379\n",
      "Sample:                             0   HQIC                          2820.337\n",
      "                               - 1000                                         \n",
      "Covariance Type:                  opg                                         \n",
      "==============================================================================\n",
      "                 coef    std err          z      P>|z|      [0.025      0.975]\n",
      "------------------------------------------------------------------------------\n",
      "sigma2         0.9788      0.043     22.989      0.000       0.895       1.062\n",
      "===================================================================================\n",
      "Ljung-Box (L1) (Q):                   0.37   Jarque-Bera (JB):                 0.83\n",
      "Prob(Q):                              0.54   Prob(JB):                         0.66\n",
      "Heteroskedasticity (H):               1.00   Skew:                            -0.04\n",
      "Prob(H) (two-sided):                  0.97   Kurtosis:                         3.11\n",
      "===================================================================================\n",
      "\n",
      "Warnings:\n",
      "[1] Covariance matrix calculated using the outer product of gradients (complex-step).\n"
     ]
    }
   ],
   "source": [
    "print(model7.summary()) #aic가 더 낮음"
   ]
  },
  {
   "cell_type": "code",
   "execution_count": 13,
   "id": "147c1139-6370-43a6-9189-5a7e0b699e66",
   "metadata": {},
   "outputs": [
    {
     "name": "stdout",
     "output_type": "stream",
     "text": [
      "                               SARIMAX Results                                \n",
      "==============================================================================\n",
      "Dep. Variable:                      y   No. Observations:                 1000\n",
      "Model:               SARIMAX(2, 0, 3)   Log Likelihood               -1401.741\n",
      "Date:                Mon, 06 Feb 2023   AIC                           2815.481\n",
      "Time:                        13:36:46   BIC                           2844.928\n",
      "Sample:                             0   HQIC                          2826.673\n",
      "                               - 1000                                         \n",
      "Covariance Type:                  opg                                         \n",
      "==============================================================================\n",
      "                 coef    std err          z      P>|z|      [0.025      0.975]\n",
      "------------------------------------------------------------------------------\n",
      "ar.L1         -1.3459      0.035    -38.611      0.000      -1.414      -1.278\n",
      "ar.L2         -0.9484      0.035    -27.464      0.000      -1.016      -0.881\n",
      "ma.L1          1.3713      0.048     28.462      0.000       1.277       1.466\n",
      "ma.L2          1.0153      0.052     19.696      0.000       0.914       1.116\n",
      "ma.L3          0.0556      0.035      1.603      0.109      -0.012       0.123\n",
      "sigma2         0.9660      0.043     22.514      0.000       0.882       1.050\n",
      "===================================================================================\n",
      "Ljung-Box (L1) (Q):                   0.00   Jarque-Bera (JB):                 0.24\n",
      "Prob(Q):                              0.99   Prob(JB):                         0.89\n",
      "Heteroskedasticity (H):               0.99   Skew:                            -0.03\n",
      "Prob(H) (two-sided):                  0.96   Kurtosis:                         3.05\n",
      "===================================================================================\n",
      "\n",
      "Warnings:\n",
      "[1] Covariance matrix calculated using the outer product of gradients (complex-step).\n"
     ]
    }
   ],
   "source": [
    "print(model0.summary()) #bic가 더 낮음"
   ]
  },
  {
   "cell_type": "code",
   "execution_count": 16,
   "id": "23871750-6f39-49b3-b95d-c0945f271733",
   "metadata": {},
   "outputs": [
    {
     "data": {
      "image/png": "[encoded data removed]",
      "text/plain": [
       "<Figure size 432x288 with 1 Axes>"
      ]
     },
     "metadata": {
      "needs_background": "light"
     },
     "output_type": "display_data"
    }
   ],
   "source": [
    "import matplotlib.pyplot as plt\n",
    "\n",
    "y_predict = model0.predict(start=data.index[0],end=data.index[-1], typ='levels')\n",
    "\n",
    "plt.plot(data, label='Original data')\n",
    "plt.plot(y_predict, label='ARIMA model')\n",
    "\n",
    "plt.legend()\n",
    "plt.show()"
   ]
  },
  {
   "cell_type": "code",
   "execution_count": 17,
   "id": "ced2d1e7-c7a3-4288-8d68-56f4dfa73718",
   "metadata": {},
   "outputs": [
    {
     "data": {
      "image/png": "[encoded data removed]",
      "text/plain": [
       "<Figure size 432x288 with 1 Axes>"
      ]
     },
     "metadata": {
      "needs_background": "light"
     },
     "output_type": "display_data"
    }
   ],
   "source": [
    "y_predict = model7.predict(start=data.index[0],end=data.index[-1], typ='levels')\n",
    "\n",
    "plt.plot(data, label='Original data')\n",
    "plt.plot(y_predict, label='ARIMA model')\n",
    "\n",
    "plt.legend()\n",
    "plt.show()"
   ]
  },
  {
   "cell_type": "markdown",
   "id": "dd8aae7d-2f7c-4954-a564-6a6b13764c81",
   "metadata": {},
   "source": [
    "# 모르겟다"
   ]
  }
 ],
 "metadata": {
  "kernelspec": {
   "display_name": "Python 3 (ipykernel)",
   "language": "python",
   "name": "python3"
  },
  "language_info": {
   "codemirror_mode": {
    "name": "ipython",
    "version": 3
   },
   "file_extension": ".py",
   "mimetype": "text/x-python",
   "name": "python",
   "nbconvert_exporter": "python",
   "pygments_lexer": "ipython3",
   "version": "3.9.12"
  }
 },
 "nbformat": 4,
 "nbformat_minor": 5
}
