{
 "cells": [
  {
   "cell_type": "code",
   "execution_count": 1,
   "id": "52464d9b-fe7e-4f02-9be4-f93518edae56",
   "metadata": {},
   "outputs": [],
   "source": [
    "## 데이터 > 트레인 >= 테스트\n",
    "## data >  train  >=  test\n",
    "## 데이터에서 test를 제외한 나머지로 train"
   ]
  },
  {
   "cell_type": "code",
   "execution_count": 2,
   "id": "77b86dad-93bc-42ce-a366-8a52f792ac01",
   "metadata": {},
   "outputs": [
    {
     "name": "stdout",
     "output_type": "stream",
     "text": [
      "Requirement already satisfied: pmdarima in c:\\users\\mirae\\appdata\\roaming\\python\\python39\\site-packages (2.0.2)\n",
      "Requirement already satisfied: scikit-learn>=0.22 in c:\\users\\mirae\\anaconda3\\lib\\site-packages (from pmdarima) (1.0.2)\n",
      "Requirement already satisfied: numpy>=1.21.2 in c:\\users\\mirae\\anaconda3\\lib\\site-packages (from pmdarima) (1.21.5)Note: you may need to restart the kernel to use updated packages.\n",
      "Requirement already satisfied: joblib>=0.11 in c:\\users\\mirae\\anaconda3\\lib\\site-packages (from pmdarima) (1.1.0)\n",
      "Requirement already satisfied: pandas>=0.19 in c:\\users\\mirae\\anaconda3\\lib\\site-packages (from pmdarima) (1.4.2)\n",
      "Requirement already satisfied: Cython!=0.29.18,!=0.29.31,>=0.29 in c:\\users\\mirae\\anaconda3\\lib\\site-packages (from pmdarima) (0.29.28)\n",
      "Requirement already satisfied: urllib3 in c:\\users\\mirae\\anaconda3\\lib\\site-packages (from pmdarima) (1.26.9)\n",
      "Requirement already satisfied: scipy>=1.3.2 in c:\\users\\mirae\\anaconda3\\lib\\site-packages (from pmdarima) (1.7.3)\n",
      "Requirement already satisfied: statsmodels>=0.13.2 in c:\\users\\mirae\\anaconda3\\lib\\site-packages (from pmdarima) (0.13.2)\n",
      "Requirement already satisfied: setuptools!=50.0.0,>=38.6.0 in c:\\users\\mirae\\anaconda3\\lib\\site-packages (from pmdarima) (61.2.0)\n",
      "Requirement already satisfied: python-dateutil>=2.8.1 in c:\\users\\mirae\\anaconda3\\lib\\site-packages (from pandas>=0.19->pmdarima) (2.8.2)\n",
      "Requirement already satisfied: pytz>=2020.1 in c:\\users\\mirae\\anaconda3\\lib\\site-packages (from pandas>=0.19->pmdarima) (2021.3)\n",
      "Requirement already satisfied: six>=1.5 in c:\\users\\mirae\\anaconda3\\lib\\site-packages (from python-dateutil>=2.8.1->pandas>=0.19->pmdarima) (1.16.0)\n",
      "Requirement already satisfied: threadpoolctl>=2.0.0 in c:\\users\\mirae\\anaconda3\\lib\\site-packages (from scikit-learn>=0.22->pmdarima) (2.2.0)\n",
      "Requirement already satisfied: patsy>=0.5.2 in c:\\users\\mirae\\anaconda3\\lib\\site-packages (from statsmodels>=0.13.2->pmdarima) (0.5.2)\n",
      "Requirement already satisfied: packaging>=21.3 in c:\\users\\mirae\\anaconda3\\lib\\site-packages (from statsmodels>=0.13.2->pmdarima) (21.3)\n",
      "Requirement already satisfied: pyparsing!=3.0.5,>=2.0.2 in c:\\users\\mirae\\anaconda3\\lib\\site-packages (from packaging>=21.3->statsmodels>=0.13.2->pmdarima) (3.0.4)\n",
      "\n"
     ]
    }
   ],
   "source": [
    "pip install --user pmdarima"
   ]
  },
  {
   "cell_type": "code",
   "execution_count": 3,
   "id": "b1be77f6-438b-4485-b778-7075f9545e52",
   "metadata": {},
   "outputs": [],
   "source": [
    "import pandas as pd\n",
    "\n",
    "import numpy as np\n",
    "\n",
    "import matplotlib.pyplot as plt\n",
    "\n",
    "from sklearn.model_selection import train_test_split\n",
    "\n",
    "from pmdarima.arima import auto_arima\n",
    "from pmdarima.arima import ndiffs\n",
    "\n",
    "from statsmodels.graphics.tsaplots import plot_acf, plot_pacf\n",
    "from statsmodels.tsa.stattools import adfuller\n",
    "from statsmodels.tsa.arima.model import ARIMA\n",
    "from statsmodels.tsa.statespace.sarimax import SARIMAX\n",
    "from statsmodels.tsa.seasonal import seasonal_decompose"
   ]
  },
  {
   "cell_type": "code",
   "execution_count": 4,
   "id": "c916d096-60a9-4258-ac38-e922772f5280",
   "metadata": {},
   "outputs": [
    {
     "data": {
      "text/html": [
       "<div>\n",
       "<style scoped>\n",
       "    .dataframe tbody tr th:only-of-type {\n",
       "        vertical-align: middle;\n",
       "    }\n",
       "\n",
       "    .dataframe tbody tr th {\n",
       "        vertical-align: top;\n",
       "    }\n",
       "\n",
       "    .dataframe thead th {\n",
       "        text-align: right;\n",
       "    }\n",
       "</style>\n",
       "<table border=\"1\" class=\"dataframe\">\n",
       "  <thead>\n",
       "    <tr style=\"text-align: right;\">\n",
       "      <th></th>\n",
       "      <th>Residential</th>\n",
       "      <th>Commercial</th>\n",
       "      <th>Industrial</th>\n",
       "      <th>Total</th>\n",
       "      <th>dates</th>\n",
       "    </tr>\n",
       "  </thead>\n",
       "  <tbody>\n",
       "    <tr>\n",
       "      <th>0</th>\n",
       "      <td>3078100.0</td>\n",
       "      <td>2016100.0</td>\n",
       "      <td>2425400.0</td>\n",
       "      <td>7770200.0</td>\n",
       "      <td>1990-01-01</td>\n",
       "    </tr>\n",
       "    <tr>\n",
       "      <th>1</th>\n",
       "      <td>2660700.0</td>\n",
       "      <td>2032600.0</td>\n",
       "      <td>2664500.0</td>\n",
       "      <td>7620100.0</td>\n",
       "      <td>1990-02-01</td>\n",
       "    </tr>\n",
       "    <tr>\n",
       "      <th>2</th>\n",
       "      <td>2319400.0</td>\n",
       "      <td>1870300.0</td>\n",
       "      <td>2478800.0</td>\n",
       "      <td>6905400.0</td>\n",
       "      <td>1990-03-01</td>\n",
       "    </tr>\n",
       "    <tr>\n",
       "      <th>3</th>\n",
       "      <td>2173000.0</td>\n",
       "      <td>1882700.0</td>\n",
       "      <td>2541300.0</td>\n",
       "      <td>6835700.0</td>\n",
       "      <td>1990-04-01</td>\n",
       "    </tr>\n",
       "    <tr>\n",
       "      <th>4</th>\n",
       "      <td>2028400.0</td>\n",
       "      <td>1901300.0</td>\n",
       "      <td>2540600.0</td>\n",
       "      <td>6714600.0</td>\n",
       "      <td>1990-05-01</td>\n",
       "    </tr>\n",
       "    <tr>\n",
       "      <th>...</th>\n",
       "      <td>...</td>\n",
       "      <td>...</td>\n",
       "      <td>...</td>\n",
       "      <td>...</td>\n",
       "      <td>...</td>\n",
       "    </tr>\n",
       "    <tr>\n",
       "      <th>310</th>\n",
       "      <td>3079400.0</td>\n",
       "      <td>3464700.0</td>\n",
       "      <td>2545900.0</td>\n",
       "      <td>9110300.0</td>\n",
       "      <td>2015-11-01</td>\n",
       "    </tr>\n",
       "    <tr>\n",
       "      <th>311</th>\n",
       "      <td>3581700.0</td>\n",
       "      <td>3429430.0</td>\n",
       "      <td>2449100.0</td>\n",
       "      <td>9480300.0</td>\n",
       "      <td>2015-12-01</td>\n",
       "    </tr>\n",
       "    <tr>\n",
       "      <th>312</th>\n",
       "      <td>4219200.0</td>\n",
       "      <td>3559200.0</td>\n",
       "      <td>2460900.0</td>\n",
       "      <td>10260000.0</td>\n",
       "      <td>2016-01-01</td>\n",
       "    </tr>\n",
       "    <tr>\n",
       "      <th>313</th>\n",
       "      <td>3997000.0</td>\n",
       "      <td>3563400.0</td>\n",
       "      <td>2561800.0</td>\n",
       "      <td>10145000.0</td>\n",
       "      <td>2016-02-01</td>\n",
       "    </tr>\n",
       "    <tr>\n",
       "      <th>314</th>\n",
       "      <td>NaN</td>\n",
       "      <td>NaN</td>\n",
       "      <td>2458700.0</td>\n",
       "      <td>9104900.0</td>\n",
       "      <td>2016-03-01</td>\n",
       "    </tr>\n",
       "  </tbody>\n",
       "</table>\n",
       "<p>315 rows × 5 columns</p>\n",
       "</div>"
      ],
      "text/plain": [
       "     Residential  Commercial  Industrial       Total       dates\n",
       "0      3078100.0   2016100.0   2425400.0   7770200.0  1990-01-01\n",
       "1      2660700.0   2032600.0   2664500.0   7620100.0  1990-02-01\n",
       "2      2319400.0   1870300.0   2478800.0   6905400.0  1990-03-01\n",
       "3      2173000.0   1882700.0   2541300.0   6835700.0  1990-04-01\n",
       "4      2028400.0   1901300.0   2540600.0   6714600.0  1990-05-01\n",
       "..           ...         ...         ...         ...         ...\n",
       "310    3079400.0   3464700.0   2545900.0   9110300.0  2015-11-01\n",
       "311    3581700.0   3429430.0   2449100.0   9480300.0  2015-12-01\n",
       "312    4219200.0   3559200.0   2460900.0  10260000.0  2016-01-01\n",
       "313    3997000.0   3563400.0   2561800.0  10145000.0  2016-02-01\n",
       "314          NaN         NaN   2458700.0   9104900.0  2016-03-01\n",
       "\n",
       "[315 rows x 5 columns]"
      ]
     },
     "execution_count": 4,
     "metadata": {},
     "output_type": "execute_result"
    }
   ],
   "source": [
    "data = pd.read_csv('data/electricity.csv')\n",
    "data"
   ]
  },
  {
   "cell_type": "code",
   "execution_count": 5,
   "id": "d5917fc9-7167-4c3d-8cfa-fe6ddd2585b0",
   "metadata": {},
   "outputs": [],
   "source": [
    "df = data[['dates','Total']]\n",
    "\n",
    "df = df.rename(columns = {\n",
    "    'Total':'total'\n",
    "})\n",
    "\n",
    "df['dates'] = pd.to_datetime(df['dates'])\n",
    "\n",
    "df['year'] = df['dates'].dt.year\n",
    "\n",
    "df9703 = df.query('year >= 1997 & year <= 2003')\n",
    "\n",
    "df9703 = df9703.set_index('dates', drop=True)\n",
    "\n",
    "df9703 = df9703[['total']]"
   ]
  },
  {
   "cell_type": "code",
   "execution_count": 6,
   "id": "bb264fa7-cf68-41f7-8582-aed9097002b4",
   "metadata": {},
   "outputs": [],
   "source": [
    "# df9703 = df9703.set_index('dates', drop=True)"
   ]
  },
  {
   "cell_type": "code",
   "execution_count": null,
   "id": "0aceb7d3-c5c7-44a9-99d3-fe5094357219",
   "metadata": {},
   "outputs": [],
   "source": []
  },
  {
   "cell_type": "code",
   "execution_count": null,
   "id": "b373e2fd-9a1e-4ca4-a0bf-3a2916150845",
   "metadata": {},
   "outputs": [],
   "source": []
  },
  {
   "cell_type": "code",
   "execution_count": 7,
   "id": "659417d9-234d-4e57-8159-60be79b134df",
   "metadata": {},
   "outputs": [
    {
     "name": "stdout",
     "output_type": "stream",
     "text": [
      "< Input >\n",
      "                 total\n",
      "dates                 \n",
      "1997-01-01   8882200.0\n",
      "1997-02-01   8959500.0\n",
      "1997-03-01   7854700.0\n",
      "1997-04-01   7826900.0\n",
      "1997-05-01   7636900.0\n",
      "...                ...\n",
      "2003-08-01  11026000.0\n",
      "2003-09-01  10220000.0\n",
      "2003-10-01   8947700.0\n",
      "2003-11-01   8765900.0\n",
      "2003-12-01   9478600.0\n",
      "\n",
      "[84 rows x 1 columns]\n"
     ]
    }
   ],
   "source": [
    "print('< Input >')\n",
    "print(df9703) #데이터 확인"
   ]
  },
  {
   "cell_type": "code",
   "execution_count": 8,
   "id": "02977ae1-c06f-4275-b403-38028be12fde",
   "metadata": {},
   "outputs": [],
   "source": [
    "me = df9703.copy(deep=True) # 데이터 깊은 복사"
   ]
  },
  {
   "cell_type": "code",
   "execution_count": 9,
   "id": "c9104736-6889-4a70-b0f0-e4c29d398892",
   "metadata": {},
   "outputs": [
    {
     "name": "stdout",
     "output_type": "stream",
     "text": [
      "train len : 58 , test len : 26\n"
     ]
    }
   ],
   "source": [
    "# '''\n",
    "split = int(rate*len(me)) #7:3 비율\n",
    "\n",
    "train = me[:split] #학습\n",
    "test = me[split:] #예측\n",
    "\n",
    "print('train len :', len(train), ', test len :', len(test))\n",
    "# '''"
   ]
  },
  {
   "cell_type": "code",
   "execution_count": 10,
   "id": "80c663ea-1d45-4229-b5f9-ed43c91ab5b4",
   "metadata": {},
   "outputs": [],
   "source": [
    "## adf 검정 ; pvalue 확인 함수\n",
    "def adf_test(train):\n",
    "    stat, p_value, lags, nobs, crit, icb = adfuller(train)\n",
    "    return p_value"
   ]
  },
  {
   "cell_type": "code",
   "execution_count": 11,
   "id": "c907ce36-88ab-4a03-9872-fe71a40c7f8f",
   "metadata": {},
   "outputs": [
    {
     "name": "stdout",
     "output_type": "stream",
     "text": [
      ".....original pvalue : 0.5441961750948482\n"
     ]
    }
   ],
   "source": [
    "p_v = adf_test(train = train)\n",
    "print('.....original pvalue :', p_v)"
   ]
  },
  {
   "cell_type": "code",
   "execution_count": 12,
   "id": "19d58d37-0847-451b-92d7-c4f85d8ad3cc",
   "metadata": {},
   "outputs": [],
   "source": [
    "## 정상성 확인 및 변환 함수\n",
    "def stationary(train):\n",
    "    \n",
    "    if p_v > 0.05:\n",
    "        kpss_diffs = ndiffs(train, alpha=0.05, test='kpss', max_d=6)\n",
    "        adf_diffs = ndiffs(train, alpha=0.05, test='adf', max_d=6)\n",
    "        d = max(adf_diffs, kpss_diffs)\n",
    "\n",
    "        print('.....n_diffs :', d)\n",
    "\n",
    "        if d>0:\n",
    "\n",
    "            diff_train = train.diff(d) #차분\n",
    "\n",
    "            diff_train = diff_train.dropna(axis=0) #공백제거\n",
    "\n",
    "            diff_p_v = adf_test(diff_train) #다시 pval 확인\n",
    "            print('.....diff p_value :', diff_p_v) #대부분 여기서 0.05 이하로 나오지 않을까\n",
    "\n",
    "            if diff_p_v > 0.05: #분산 일정x 경우\n",
    "                log_train = np.log(diff_train) #로그 변환\n",
    "                # 경고해결방법..\n",
    "                # RuntimeWarning: invalid value encountered in log result = func(self.values, **kwargs)\n",
    "                #\n",
    "\n",
    "                log_train = log_train.dropna(axis=0) #공백제거\n",
    "\n",
    "                log_p_v = adf_test(log_train) #다시 pval 확인\n",
    "                print('.....log p_value :', log_p_v) \n",
    "\n",
    "             \n",
    "\n",
    "                if ((log_p_v) > 0.05): #이건\n",
    "                    print('EXIT')\n",
    "                    exit()\n",
    "                else:\n",
    "                    print('.....final p_value :', log_p_v)\n",
    "                    \n",
    "                    print('< Stationary Train data >')\n",
    "                    plt.plot(log_train)\n",
    "                    plt.show()                      \n",
    "                    \n",
    "                    return [d, log_train]\n",
    "                \n",
    "            else:\n",
    "                return [d, diff_train]\n",
    "    \n",
    "    print('Already Stationary data')\n",
    "    return [d, train]"
   ]
  },
  {
   "cell_type": "code",
   "execution_count": 13,
   "id": "f4a163d7-2ba6-45c1-8847-fe991f9ceea8",
   "metadata": {},
   "outputs": [
    {
     "name": "stdout",
     "output_type": "stream",
     "text": [
      ".....n_diffs : 1\n",
      ".....diff p_value : 0.07021480968137404\n",
      ".....log p_value : 0.03904550427976579\n",
      ".....final p_value : 0.03904550427976579\n",
      "< Stationary Train data >\n"
     ]
    },
    {
     "name": "stderr",
     "output_type": "stream",
     "text": [
      "C:\\Users\\mirae\\anaconda3\\lib\\site-packages\\pandas\\core\\internals\\blocks.py:402: RuntimeWarning: invalid value encountered in log\n",
      "  result = func(self.values, **kwargs)\n"
     ]
    },
    {
     "data": {
      "image/png": "[encoded data removed]",
      "text/plain": [
       "<Figure size 432x288 with 1 Axes>"
      ]
     },
     "metadata": {
      "needs_background": "light"
     },
     "output_type": "display_data"
    }
   ],
   "source": [
    "diff, st_train = stationary(train = train) #차분 횟수와 정상화된 데이터 저장\n",
    "# 경고해결방법 찾기\n",
    "# RuntimeWarning: invalid value encountered in log"
   ]
  },
  {
   "cell_type": "code",
   "execution_count": 14,
   "id": "a342c87f-cbf6-463a-9e28-7d71adb10ea3",
   "metadata": {},
   "outputs": [],
   "source": [
    "## 최적 모델 찾기\n",
    "\n",
    "def autoarima(train, diff, m52):\n",
    "\n",
    "    m_list = [1, 7, 12] #계절성 주기\n",
    "    if m52 == 'o':\n",
    "        m_list.append(52)\n",
    "    \n",
    "    model = None #모델\n",
    "    aic = 99999 #AIC\n",
    "    cycle = 1 #계절성 주기\n",
    "    \n",
    "    for m_test in m_list: #52까지 하면 웹꺼짐..\n",
    "        arima = auto_arima(\n",
    "                y = train, #####이름 수정\n",
    "                d = diff, #차분 횟수\n",
    "                m = m_test, \n",
    "                seasonal = True, \n",
    "                trace = True\n",
    "                )\n",
    "        if arima.aic() < aic:\n",
    "            aic = arima.aic()\n",
    "            model = arima\n",
    "            cycle = m_test\n",
    "            \n",
    "    return [cycle, model]"
   ]
  },
  {
   "cell_type": "code",
   "execution_count": 15,
   "id": "5a1d1579-3c46-4321-b675-4e551bcc5329",
   "metadata": {},
   "outputs": [
    {
     "name": "stdout",
     "output_type": "stream",
     "text": [
      "< AutoArima >\n",
      "Performing stepwise search to minimize aic\n",
      " ARIMA(2,1,2)(0,0,0)[0] intercept   : AIC=inf, Time=0.56 sec\n",
      " ARIMA(0,1,0)(0,0,0)[0] intercept   : AIC=1694.981, Time=0.02 sec\n",
      " ARIMA(1,1,0)(0,0,0)[0] intercept   : AIC=1695.041, Time=0.04 sec\n",
      " ARIMA(0,1,1)(0,0,0)[0] intercept   : AIC=1693.903, Time=0.05 sec\n",
      " ARIMA(0,1,0)(0,0,0)[0]             : AIC=1692.992, Time=0.03 sec\n",
      " ARIMA(1,1,1)(0,0,0)[0] intercept   : AIC=1698.275, Time=0.09 sec\n",
      "\n",
      "Best model:  ARIMA(0,1,0)(0,0,0)[0]          \n",
      "Total fit time: 0.789 seconds\n",
      "Performing stepwise search to minimize aic\n",
      " ARIMA(2,1,2)(1,0,1)[7] intercept   : AIC=1640.732, Time=0.55 sec\n",
      " ARIMA(0,1,0)(0,0,0)[7] intercept   : AIC=1694.981, Time=0.02 sec\n",
      " ARIMA(1,1,0)(1,0,0)[7] intercept   : AIC=1695.621, Time=0.06 sec\n",
      " ARIMA(0,1,1)(0,0,1)[7] intercept   : AIC=1694.456, Time=0.06 sec\n",
      " ARIMA(0,1,0)(0,0,0)[7]             : AIC=1692.992, Time=0.02 sec\n",
      " ARIMA(2,1,2)(0,0,1)[7] intercept   : AIC=inf, Time=0.45 sec\n",
      " ARIMA(2,1,2)(1,0,0)[7] intercept   : AIC=inf, Time=0.69 sec\n",
      " ARIMA(2,1,2)(2,0,1)[7] intercept   : AIC=inf, Time=0.67 sec\n",
      " ARIMA(2,1,2)(1,0,2)[7] intercept   : AIC=inf, Time=0.85 sec\n",
      " ARIMA(2,1,2)(0,0,0)[7] intercept   : AIC=inf, Time=0.77 sec\n",
      " ARIMA(2,1,2)(0,0,2)[7] intercept   : AIC=1643.776, Time=0.70 sec\n",
      " ARIMA(2,1,2)(2,0,0)[7] intercept   : AIC=inf, Time=0.61 sec\n",
      " ARIMA(2,1,2)(2,0,2)[7] intercept   : AIC=inf, Time=0.76 sec\n",
      " ARIMA(1,1,2)(1,0,1)[7] intercept   : AIC=1692.565, Time=0.25 sec\n",
      " ARIMA(2,1,1)(1,0,1)[7] intercept   : AIC=1703.411, Time=0.25 sec\n",
      " ARIMA(3,1,2)(1,0,1)[7] intercept   : AIC=inf, Time=0.59 sec\n",
      " ARIMA(2,1,3)(1,0,1)[7] intercept   : AIC=inf, Time=0.51 sec\n",
      " ARIMA(1,1,1)(1,0,1)[7] intercept   : AIC=1700.257, Time=0.16 sec\n",
      " ARIMA(1,1,3)(1,0,1)[7] intercept   : AIC=1693.671, Time=0.60 sec\n",
      " ARIMA(3,1,1)(1,0,1)[7] intercept   : AIC=inf, Time=0.51 sec\n",
      " ARIMA(3,1,3)(1,0,1)[7] intercept   : AIC=inf, Time=0.73 sec\n",
      " ARIMA(2,1,2)(1,0,1)[7]             : AIC=inf, Time=0.44 sec\n",
      "\n",
      "Best model:  ARIMA(2,1,2)(1,0,1)[7] intercept\n",
      "Total fit time: 10.296 seconds\n",
      "Performing stepwise search to minimize aic\n",
      " ARIMA(2,1,2)(1,1,1)[12]             : AIC=1252.921, Time=0.67 sec\n",
      " ARIMA(0,1,0)(0,1,0)[12]             : AIC=1252.181, Time=0.01 sec\n",
      " ARIMA(1,1,0)(1,1,0)[12]             : AIC=1251.663, Time=0.06 sec\n",
      " ARIMA(0,1,1)(0,1,1)[12]             : AIC=1251.549, Time=0.05 sec\n",
      " ARIMA(0,1,1)(0,1,0)[12]             : AIC=1252.331, Time=0.02 sec\n",
      " ARIMA(0,1,1)(1,1,1)[12]             : AIC=1253.495, Time=0.12 sec\n",
      " ARIMA(0,1,1)(0,1,2)[12]             : AIC=1253.515, Time=0.12 sec\n",
      " ARIMA(0,1,1)(1,1,0)[12]             : AIC=1251.581, Time=0.11 sec\n",
      " ARIMA(0,1,1)(1,1,2)[12]             : AIC=1255.518, Time=0.14 sec\n",
      " ARIMA(0,1,0)(0,1,1)[12]             : AIC=1253.709, Time=0.04 sec\n",
      " ARIMA(1,1,1)(0,1,1)[12]             : AIC=1252.018, Time=0.19 sec\n",
      " ARIMA(0,1,2)(0,1,1)[12]             : AIC=1250.212, Time=0.06 sec\n",
      " ARIMA(0,1,2)(0,1,0)[12]             : AIC=1250.351, Time=0.03 sec\n",
      " ARIMA(0,1,2)(1,1,1)[12]             : AIC=1252.205, Time=0.24 sec\n",
      " ARIMA(0,1,2)(0,1,2)[12]             : AIC=1252.207, Time=0.14 sec\n",
      " ARIMA(0,1,2)(1,1,0)[12]             : AIC=1250.206, Time=0.05 sec\n",
      " ARIMA(0,1,2)(2,1,0)[12]             : AIC=1252.205, Time=0.13 sec\n",
      " ARIMA(0,1,2)(2,1,1)[12]             : AIC=1254.206, Time=0.17 sec\n",
      " ARIMA(1,1,2)(1,1,0)[12]             : AIC=1251.201, Time=0.13 sec\n",
      " ARIMA(0,1,3)(1,1,0)[12]             : AIC=1251.357, Time=0.07 sec\n",
      " ARIMA(1,1,1)(1,1,0)[12]             : AIC=1252.035, Time=0.10 sec\n",
      " ARIMA(1,1,3)(1,1,0)[12]             : AIC=1253.010, Time=0.20 sec\n",
      " ARIMA(0,1,2)(1,1,0)[12] intercept   : AIC=1251.810, Time=0.07 sec\n",
      "\n",
      "Best model:  ARIMA(0,1,2)(1,1,0)[12]          \n",
      "Total fit time: 2.941 seconds\n"
     ]
    }
   ],
   "source": [
    "print('< AutoArima >')\n",
    "cycle, model = autoarima(\n",
    "                train = train, ####이름 수정\n",
    "                diff = diff,\n",
    "                m52 = m52\n",
    "               ) #계절성 주기와 모델 저장"
   ]
  },
  {
   "cell_type": "code",
   "execution_count": 16,
   "id": "3c16b368-6b22-4f4d-91c1-83c776a4ce8e",
   "metadata": {},
   "outputs": [
    {
     "name": "stdout",
     "output_type": "stream",
     "text": [
      "< Auto Arima Model >\n",
      " ARIMA(0,1,2)(1,1,0)[12]          \n"
     ]
    }
   ],
   "source": [
    "print('< Auto Arima Model >', model, sep = '\\n')"
   ]
  },
  {
   "cell_type": "markdown",
   "id": "e01e59e3-736e-4716-9cea-d3d2334e6c70",
   "metadata": {},
   "source": [
    "SARIMAX\n",
    "\n",
    "https://towardsdatascience.com/time-series-forecasting-with-sarima-in-python-cda5b793977b"
   ]
  },
  {
   "cell_type": "code",
   "execution_count": 17,
   "id": "c53973b4-248d-4878-be31-bef6272230c2",
   "metadata": {},
   "outputs": [
    {
     "name": "stderr",
     "output_type": "stream",
     "text": [
      "C:\\Users\\mirae\\anaconda3\\lib\\site-packages\\statsmodels\\tsa\\base\\tsa_model.py:471: ValueWarning: No frequency information was provided, so inferred frequency MS will be used.\n",
      "  self._init_dates(dates, freq)\n",
      "C:\\Users\\mirae\\anaconda3\\lib\\site-packages\\statsmodels\\tsa\\base\\tsa_model.py:471: ValueWarning: No frequency information was provided, so inferred frequency MS will be used.\n",
      "  self._init_dates(dates, freq)\n"
     ]
    }
   ],
   "source": [
    "if cycle == 1:\n",
    "    \n",
    "    arima = ARIMA(train, order = model.order)\n",
    "    \n",
    "else:\n",
    "    \n",
    "    arima = SARIMAX(train, order = model.order, seasonal_order = model.seasonal_order)\n",
    "    \n",
    "# 경고해결방법\n",
    "# ValueWarning: No frequency information was provided, so inferred frequency MS will be used.\n",
    "\n"
   ]
  },
  {
   "cell_type": "code",
   "execution_count": 18,
   "id": "15fcdceb-ebae-4214-8855-786ee425f8b3",
   "metadata": {},
   "outputs": [
    {
     "name": "stdout",
     "output_type": "stream",
     "text": [
      "< ARIMA fit summary >\n",
      "                                      SARIMAX Results                                      \n",
      "===========================================================================================\n",
      "Dep. Variable:                               total   No. Observations:                   58\n",
      "Model:             SARIMAX(0, 1, 2)x(1, 1, [], 12)   Log Likelihood                -621.103\n",
      "Date:                             Wed, 08 Feb 2023   AIC                           1250.206\n",
      "Time:                                     00:06:19   BIC                           1257.433\n",
      "Sample:                                 01-01-1997   HQIC                          1252.900\n",
      "                                      - 10-01-2001                                         \n",
      "Covariance Type:                               opg                                         \n",
      "==============================================================================\n",
      "                 coef    std err          z      P>|z|      [0.025      0.975]\n",
      "------------------------------------------------------------------------------\n",
      "ma.L1         -0.0142      0.151     -0.094      0.925      -0.311       0.282\n",
      "ma.L2         -0.0558      0.055     -1.013      0.311      -0.164       0.052\n",
      "ar.S.L12      -0.0401      0.092     -0.435      0.664      -0.221       0.141\n",
      "sigma2       6.02e+10   3.49e-13   1.73e+23      0.000    6.02e+10    6.02e+10\n",
      "===================================================================================\n",
      "Ljung-Box (L1) (Q):                   0.72   Jarque-Bera (JB):                 0.89\n",
      "Prob(Q):                              0.40   Prob(JB):                         0.64\n",
      "Heteroskedasticity (H):               0.97   Skew:                            -0.34\n",
      "Prob(H) (two-sided):                  0.96   Kurtosis:                         3.11\n",
      "===================================================================================\n",
      "\n",
      "Warnings:\n",
      "[1] Covariance matrix calculated using the outer product of gradients (complex-step).\n",
      "[2] Covariance matrix is singular or near-singular, with condition number 2.81e+39. Standard errors may be unstable.\n"
     ]
    }
   ],
   "source": [
    "arima_fit = arima.fit()\n",
    "print('< ARIMA fit summary >')\n",
    "print(arima_fit.summary())"
   ]
  },
  {
   "cell_type": "code",
   "execution_count": 19,
   "id": "efc2d475-6832-430a-bbfd-379b1238c240",
   "metadata": {},
   "outputs": [
    {
     "name": "stdout",
     "output_type": "stream",
     "text": [
      "< Diagnostic plots for standardized residuals >\n",
      "Figure(1152x648)\n"
     ]
    },
    {
     "data": {
      "image/png": "[encoded data removed]",
      "text/plain": [
       "<Figure size 1152x648 with 4 Axes>"
      ]
     },
     "metadata": {
      "needs_background": "light"
     },
     "output_type": "display_data"
    }
   ],
   "source": [
    "print('< Diagnostic plots for standardized residuals >')\n",
    "print(arima_fit.plot_diagnostics(figsize = (16,9)))"
   ]
  },
  {
   "cell_type": "code",
   "execution_count": 20,
   "id": "ae8b8510-73bd-4459-9ad4-8dc62f98d126",
   "metadata": {},
   "outputs": [],
   "source": [
    "## 평가\n",
    "\n",
    "future_forecast = arima_fit.predict(\n",
    "                        start = test.index[0],\n",
    "                        end = test.index[-1],\n",
    "                        typ='levels'\n",
    "                  )"
   ]
  },
  {
   "cell_type": "code",
   "execution_count": 21,
   "id": "e13c4739-865f-4a50-b25f-d06725134042",
   "metadata": {},
   "outputs": [
    {
     "data": {
      "image/png": "[encoded data removed]",
      "text/plain": [
       "<Figure size 432x288 with 1 Axes>"
      ]
     },
     "metadata": {
      "needs_background": "light"
     },
     "output_type": "display_data"
    }
   ],
   "source": [
    "plt.plot(me, label='Original data', color='g')\n",
    "plt.plot(future_forecast, label='ARIMA model', color='m')\n",
    "\n",
    "plt.legend()\n",
    "plt.show()"
   ]
  },
  {
   "cell_type": "code",
   "execution_count": null,
   "id": "ff3af140-8ead-45fa-aff3-c204d2f74925",
   "metadata": {},
   "outputs": [],
   "source": []
  },
  {
   "cell_type": "code",
   "execution_count": null,
   "id": "d8bbef5f-5f33-45d3-82f6-e11f4f93a1e4",
   "metadata": {},
   "outputs": [],
   "source": []
  },
  {
   "cell_type": "code",
   "execution_count": null,
   "id": "7cee1831-0a11-4971-8038-d7ac74edb605",
   "metadata": {},
   "outputs": [],
   "source": []
  },
  {
   "cell_type": "code",
   "execution_count": null,
   "id": "7eb47631-12cc-4c48-8d8f-1b94d96f6a49",
   "metadata": {
    "tags": []
   },
   "outputs": [],
   "source": [
    "def arima_fn(data, rate, m52):\n",
    "    \n",
    "    return None"
   ]
  },
  {
   "cell_type": "code",
   "execution_count": 22,
   "id": "37021c02-d214-4278-8258-f02df5874f38",
   "metadata": {
    "tags": []
   },
   "outputs": [
    {
     "ename": "NameError",
     "evalue": "name 'arima_fn' is not defined",
     "output_type": "error",
     "traceback": [
      "\u001b[1;31m---------------------------------------------------------------------------\u001b[0m",
      "\u001b[1;31mNameError\u001b[0m                                 Traceback (most recent call last)",
      "Input \u001b[1;32mIn [22]\u001b[0m, in \u001b[0;36m<cell line: 1>\u001b[1;34m()\u001b[0m\n\u001b[1;32m----> 1\u001b[0m \u001b[43marima_fn\u001b[49m(data)\n",
      "\u001b[1;31mNameError\u001b[0m: name 'arima_fn' is not defined"
     ]
    }
   ],
   "source": [
    "arima_fn(\n",
    "    data = data, \n",
    "    rate = rate,\n",
    "    m52 = m52\n",
    ") #시작\n",
    "# arima_fn(답이 있는 예측할 데이터, train/test 비율, autoarima에서 m=52도 실행하는지)"
   ]
  },
  {
   "cell_type": "code",
   "execution_count": null,
   "id": "f348a437-9341-42e6-b6a6-a7df77e03be8",
   "metadata": {},
   "outputs": [],
   "source": []
  },
  {
   "cell_type": "code",
   "execution_count": null,
   "id": "949e1527-6622-4f6a-ae66-560e5bc8e1e3",
   "metadata": {},
   "outputs": [],
   "source": []
  }
 ],
 "metadata": {
  "kernelspec": {
   "display_name": "Python 3 (ipykernel)",
   "language": "python",
   "name": "python3"
  },
  "language_info": {
   "codemirror_mode": {
    "name": "ipython",
    "version": 3
   },
   "file_extension": ".py",
   "mimetype": "text/x-python",
   "name": "python",
   "nbconvert_exporter": "python",
   "pygments_lexer": "ipython3",
   "version": "3.9.12"
  }
 },
 "nbformat": 4,
 "nbformat_minor": 5
}
