{
 "cells": [
  {
   "cell_type": "markdown",
   "id": "92816ab3-3c82-4ef6-9363-ab3429710146",
   "metadata": {},
   "source": [
    "https://hongl.tistory.com/99\n",
    "\n",
    "![](attachment:3cc66625-7ba1-4f4c-909d-d3c30786c0b5.png)"
   ]
  },
  {
   "cell_type": "code",
   "execution_count": 66,
   "id": "77b86dad-93bc-42ce-a366-8a52f792ac01",
   "metadata": {},
   "outputs": [
    {
     "name": "stdout",
     "output_type": "stream",
     "text": [
      "ERROR! Session/line number was not unique in database. History logging moved to new session 102\n",
      "Requirement already satisfied: pmdarima in c:\\users\\mirae\\appdata\\roaming\\python\\python39\\site-packages (2.0.2)\n",
      "Requirement already satisfied: pandas>=0.19 in c:\\users\\mirae\\anaconda3\\lib\\site-packages (from pmdarima) (1.4.2)\n",
      "Requirement already satisfied: Cython!=0.29.18,!=0.29.31,>=0.29 in c:\\users\\mirae\\anaconda3\\lib\\site-packages (from pmdarima) (0.29.28)\n",
      "Requirement already satisfied: scipy>=1.3.2 in c:\\users\\mirae\\anaconda3\\lib\\site-packages (from pmdarima) (1.7.3)\n",
      "Requirement already satisfied: setuptools!=50.0.0,>=38.6.0 in c:\\users\\mirae\\anaconda3\\lib\\site-packages (from pmdarima) (61.2.0)\n",
      "Requirement already satisfied: joblib>=0.11 in c:\\users\\mirae\\anaconda3\\lib\\site-packages (from pmdarima) (1.1.0)\n",
      "Requirement already satisfied: scikit-learn>=0.22 in c:\\users\\mirae\\anaconda3\\lib\\site-packages (from pmdarima) (1.0.2)\n",
      "Requirement already satisfied: urllib3 in c:\\users\\mirae\\anaconda3\\lib\\site-packages (from pmdarima) (1.26.9)\n",
      "Requirement already satisfied: numpy>=1.21.2 in c:\\users\\mirae\\anaconda3\\lib\\site-packages (from pmdarima) (1.21.5)\n",
      "Requirement already satisfied: statsmodels>=0.13.2 in c:\\users\\mirae\\anaconda3\\lib\\site-packages (from pmdarima) (0.13.2)\n",
      "Requirement already satisfied: python-dateutil>=2.8.1 in c:\\users\\mirae\\anaconda3\\lib\\site-packages (from pandas>=0.19->pmdarima) (2.8.2)\n",
      "Requirement already satisfied: pytz>=2020.1 in c:\\users\\mirae\\anaconda3\\lib\\site-packages (from pandas>=0.19->pmdarima) (2021.3)\n",
      "Requirement already satisfied: six>=1.5 in c:\\users\\mirae\\anaconda3\\lib\\site-packages (from python-dateutil>=2.8.1->pandas>=0.19->pmdarima) (1.16.0)\n",
      "Requirement already satisfied: threadpoolctl>=2.0.0 in c:\\users\\mirae\\anaconda3\\lib\\site-packages (from scikit-learn>=0.22->pmdarima) (2.2.0)\n",
      "Requirement already satisfied: patsy>=0.5.2 in c:\\users\\mirae\\anaconda3\\lib\\site-packages (from statsmodels>=0.13.2->pmdarima) (0.5.2)\n",
      "Requirement already satisfied: packaging>=21.3 in c:\\users\\mirae\\anaconda3\\lib\\site-packages (from statsmodels>=0.13.2->pmdarima) (21.3)\n",
      "Requirement already satisfied: pyparsing!=3.0.5,>=2.0.2 in c:\\users\\mirae\\anaconda3\\lib\\site-packages (from packaging>=21.3->statsmodels>=0.13.2->pmdarima) (3.0.4)\n",
      "Note: you may need to restart the kernel to use updated packages.\n"
     ]
    }
   ],
   "source": [
    "pip install --user pmdarima"
   ]
  },
  {
   "cell_type": "code",
   "execution_count": 67,
   "id": "b1be77f6-438b-4485-b778-7075f9545e52",
   "metadata": {},
   "outputs": [],
   "source": [
    "import pandas as pd\n",
    "\n",
    "import numpy as np\n",
    "\n",
    "import matplotlib.pyplot as plt\n",
    "\n",
    "from sklearn.model_selection import train_test_split\n",
    "\n",
    "from pmdarima.arima import auto_arima\n",
    "from pmdarima.arima import ndiffs\n",
    "\n",
    "from statsmodels.graphics.tsaplots import plot_acf, plot_pacf\n",
    "from statsmodels.tsa.stattools import adfuller\n",
    "from statsmodels.tsa.arima.model import ARIMA\n",
    "from statsmodels.tsa.statespace.sarimax import SARIMAX"
   ]
  },
  {
   "cell_type": "code",
   "execution_count": 68,
   "id": "c916d096-60a9-4258-ac38-e922772f5280",
   "metadata": {},
   "outputs": [
    {
     "data": {
      "text/html": [
       "<div>\n",
       "<style scoped>\n",
       "    .dataframe tbody tr th:only-of-type {\n",
       "        vertical-align: middle;\n",
       "    }\n",
       "\n",
       "    .dataframe tbody tr th {\n",
       "        vertical-align: top;\n",
       "    }\n",
       "\n",
       "    .dataframe thead th {\n",
       "        text-align: right;\n",
       "    }\n",
       "</style>\n",
       "<table border=\"1\" class=\"dataframe\">\n",
       "  <thead>\n",
       "    <tr style=\"text-align: right;\">\n",
       "      <th></th>\n",
       "      <th>Residential</th>\n",
       "      <th>Commercial</th>\n",
       "      <th>Industrial</th>\n",
       "      <th>Total</th>\n",
       "      <th>dates</th>\n",
       "    </tr>\n",
       "  </thead>\n",
       "  <tbody>\n",
       "    <tr>\n",
       "      <th>0</th>\n",
       "      <td>3078100.0</td>\n",
       "      <td>2016100.0</td>\n",
       "      <td>2425400.0</td>\n",
       "      <td>7770200.0</td>\n",
       "      <td>1990-01-01</td>\n",
       "    </tr>\n",
       "    <tr>\n",
       "      <th>1</th>\n",
       "      <td>2660700.0</td>\n",
       "      <td>2032600.0</td>\n",
       "      <td>2664500.0</td>\n",
       "      <td>7620100.0</td>\n",
       "      <td>1990-02-01</td>\n",
       "    </tr>\n",
       "    <tr>\n",
       "      <th>2</th>\n",
       "      <td>2319400.0</td>\n",
       "      <td>1870300.0</td>\n",
       "      <td>2478800.0</td>\n",
       "      <td>6905400.0</td>\n",
       "      <td>1990-03-01</td>\n",
       "    </tr>\n",
       "    <tr>\n",
       "      <th>3</th>\n",
       "      <td>2173000.0</td>\n",
       "      <td>1882700.0</td>\n",
       "      <td>2541300.0</td>\n",
       "      <td>6835700.0</td>\n",
       "      <td>1990-04-01</td>\n",
       "    </tr>\n",
       "    <tr>\n",
       "      <th>4</th>\n",
       "      <td>2028400.0</td>\n",
       "      <td>1901300.0</td>\n",
       "      <td>2540600.0</td>\n",
       "      <td>6714600.0</td>\n",
       "      <td>1990-05-01</td>\n",
       "    </tr>\n",
       "    <tr>\n",
       "      <th>...</th>\n",
       "      <td>...</td>\n",
       "      <td>...</td>\n",
       "      <td>...</td>\n",
       "      <td>...</td>\n",
       "      <td>...</td>\n",
       "    </tr>\n",
       "    <tr>\n",
       "      <th>310</th>\n",
       "      <td>3079400.0</td>\n",
       "      <td>3464700.0</td>\n",
       "      <td>2545900.0</td>\n",
       "      <td>9110300.0</td>\n",
       "      <td>2015-11-01</td>\n",
       "    </tr>\n",
       "    <tr>\n",
       "      <th>311</th>\n",
       "      <td>3581700.0</td>\n",
       "      <td>3429430.0</td>\n",
       "      <td>2449100.0</td>\n",
       "      <td>9480300.0</td>\n",
       "      <td>2015-12-01</td>\n",
       "    </tr>\n",
       "    <tr>\n",
       "      <th>312</th>\n",
       "      <td>4219200.0</td>\n",
       "      <td>3559200.0</td>\n",
       "      <td>2460900.0</td>\n",
       "      <td>10260000.0</td>\n",
       "      <td>2016-01-01</td>\n",
       "    </tr>\n",
       "    <tr>\n",
       "      <th>313</th>\n",
       "      <td>3997000.0</td>\n",
       "      <td>3563400.0</td>\n",
       "      <td>2561800.0</td>\n",
       "      <td>10145000.0</td>\n",
       "      <td>2016-02-01</td>\n",
       "    </tr>\n",
       "    <tr>\n",
       "      <th>314</th>\n",
       "      <td>NaN</td>\n",
       "      <td>NaN</td>\n",
       "      <td>2458700.0</td>\n",
       "      <td>9104900.0</td>\n",
       "      <td>2016-03-01</td>\n",
       "    </tr>\n",
       "  </tbody>\n",
       "</table>\n",
       "<p>315 rows × 5 columns</p>\n",
       "</div>"
      ],
      "text/plain": [
       "     Residential  Commercial  Industrial       Total       dates\n",
       "0      3078100.0   2016100.0   2425400.0   7770200.0  1990-01-01\n",
       "1      2660700.0   2032600.0   2664500.0   7620100.0  1990-02-01\n",
       "2      2319400.0   1870300.0   2478800.0   6905400.0  1990-03-01\n",
       "3      2173000.0   1882700.0   2541300.0   6835700.0  1990-04-01\n",
       "4      2028400.0   1901300.0   2540600.0   6714600.0  1990-05-01\n",
       "..           ...         ...         ...         ...         ...\n",
       "310    3079400.0   3464700.0   2545900.0   9110300.0  2015-11-01\n",
       "311    3581700.0   3429430.0   2449100.0   9480300.0  2015-12-01\n",
       "312    4219200.0   3559200.0   2460900.0  10260000.0  2016-01-01\n",
       "313    3997000.0   3563400.0   2561800.0  10145000.0  2016-02-01\n",
       "314          NaN         NaN   2458700.0   9104900.0  2016-03-01\n",
       "\n",
       "[315 rows x 5 columns]"
      ]
     },
     "execution_count": 68,
     "metadata": {},
     "output_type": "execute_result"
    }
   ],
   "source": [
    "data = pd.read_csv('data/electricity.csv')\n",
    "data"
   ]
  },
  {
   "cell_type": "code",
   "execution_count": 69,
   "id": "d5917fc9-7167-4c3d-8cfa-fe6ddd2585b0",
   "metadata": {},
   "outputs": [
    {
     "data": {
      "text/html": [
       "<div>\n",
       "<style scoped>\n",
       "    .dataframe tbody tr th:only-of-type {\n",
       "        vertical-align: middle;\n",
       "    }\n",
       "\n",
       "    .dataframe tbody tr th {\n",
       "        vertical-align: top;\n",
       "    }\n",
       "\n",
       "    .dataframe thead th {\n",
       "        text-align: right;\n",
       "    }\n",
       "</style>\n",
       "<table border=\"1\" class=\"dataframe\">\n",
       "  <thead>\n",
       "    <tr style=\"text-align: right;\">\n",
       "      <th></th>\n",
       "      <th>total</th>\n",
       "    </tr>\n",
       "    <tr>\n",
       "      <th>dates</th>\n",
       "      <th></th>\n",
       "    </tr>\n",
       "  </thead>\n",
       "  <tbody>\n",
       "    <tr>\n",
       "      <th>1997-01-01</th>\n",
       "      <td>8882200.0</td>\n",
       "    </tr>\n",
       "    <tr>\n",
       "      <th>1997-02-01</th>\n",
       "      <td>8959500.0</td>\n",
       "    </tr>\n",
       "    <tr>\n",
       "      <th>1997-03-01</th>\n",
       "      <td>7854700.0</td>\n",
       "    </tr>\n",
       "    <tr>\n",
       "      <th>1997-04-01</th>\n",
       "      <td>7826900.0</td>\n",
       "    </tr>\n",
       "    <tr>\n",
       "      <th>1997-05-01</th>\n",
       "      <td>7636900.0</td>\n",
       "    </tr>\n",
       "    <tr>\n",
       "      <th>...</th>\n",
       "      <td>...</td>\n",
       "    </tr>\n",
       "    <tr>\n",
       "      <th>2003-08-01</th>\n",
       "      <td>11026000.0</td>\n",
       "    </tr>\n",
       "    <tr>\n",
       "      <th>2003-09-01</th>\n",
       "      <td>10220000.0</td>\n",
       "    </tr>\n",
       "    <tr>\n",
       "      <th>2003-10-01</th>\n",
       "      <td>8947700.0</td>\n",
       "    </tr>\n",
       "    <tr>\n",
       "      <th>2003-11-01</th>\n",
       "      <td>8765900.0</td>\n",
       "    </tr>\n",
       "    <tr>\n",
       "      <th>2003-12-01</th>\n",
       "      <td>9478600.0</td>\n",
       "    </tr>\n",
       "  </tbody>\n",
       "</table>\n",
       "<p>84 rows × 1 columns</p>\n",
       "</div>"
      ],
      "text/plain": [
       "                 total\n",
       "dates                 \n",
       "1997-01-01   8882200.0\n",
       "1997-02-01   8959500.0\n",
       "1997-03-01   7854700.0\n",
       "1997-04-01   7826900.0\n",
       "1997-05-01   7636900.0\n",
       "...                ...\n",
       "2003-08-01  11026000.0\n",
       "2003-09-01  10220000.0\n",
       "2003-10-01   8947700.0\n",
       "2003-11-01   8765900.0\n",
       "2003-12-01   9478600.0\n",
       "\n",
       "[84 rows x 1 columns]"
      ]
     },
     "execution_count": 69,
     "metadata": {},
     "output_type": "execute_result"
    }
   ],
   "source": [
    "df = data[['dates','Total']]\n",
    "\n",
    "df = df.rename(columns = {\n",
    "    'Total':'total'\n",
    "})\n",
    "\n",
    "df['dates'] = pd.to_datetime(df['dates'])\n",
    "\n",
    "df['year'] = df['dates'].dt.year\n",
    "\n",
    "df9703 = df.query('year >= 1997 & year <= 2003')\n",
    "\n",
    "df9703 = df9703.set_index('dates', drop=True)\n",
    "\n",
    "df9703 = df9703[['total']]\n",
    "\n",
    "df9703"
   ]
  },
  {
   "cell_type": "code",
   "execution_count": 70,
   "id": "02977ae1-c06f-4275-b403-38028be12fde",
   "metadata": {},
   "outputs": [],
   "source": [
    "me = df9703"
   ]
  },
  {
   "cell_type": "code",
   "execution_count": 71,
   "id": "c9104736-6889-4a70-b0f0-e4c29d398892",
   "metadata": {},
   "outputs": [
    {
     "name": "stdout",
     "output_type": "stream",
     "text": [
      "58 26\n"
     ]
    }
   ],
   "source": [
    "split = int(0.7*len(me)) #7:3 비율\n",
    "\n",
    "train = me[:split] #학습\n",
    "test = me[split:] #예측\n",
    "\n",
    "print(len(train), len(test))"
   ]
  },
  {
   "cell_type": "code",
   "execution_count": 72,
   "id": "80c663ea-1d45-4229-b5f9-ed43c91ab5b4",
   "metadata": {},
   "outputs": [],
   "source": [
    "def adf_test(dt):\n",
    "    stat, p_value, lags, nobs, crit, icb = adfuller(dt)\n",
    "    print('p_value :', p_value)\n",
    "    return p_value"
   ]
  },
  {
   "cell_type": "code",
   "execution_count": 73,
   "id": "c907ce36-88ab-4a03-9872-fe71a40c7f8f",
   "metadata": {},
   "outputs": [
    {
     "name": "stdout",
     "output_type": "stream",
     "text": [
      "p_value : 0.5441961750948482\n"
     ]
    }
   ],
   "source": [
    "p_v = adf_test(train)"
   ]
  },
  {
   "cell_type": "code",
   "execution_count": 74,
   "id": "3c2835aa-b0cf-4824-9118-232e18d72df6",
   "metadata": {},
   "outputs": [],
   "source": [
    "d = 0"
   ]
  },
  {
   "cell_type": "code",
   "execution_count": 75,
   "id": "19d58d37-0847-451b-92d7-c4f85d8ad3cc",
   "metadata": {},
   "outputs": [
    {
     "name": "stdout",
     "output_type": "stream",
     "text": [
      "n_diffs : 1\n",
      "p_value : 0.07021480968137404\n",
      "diff p_value : 0.07021480968137404\n",
      "p_value : 0.03904550427976579\n",
      "log p_value : 0.03904550427976579\n"
     ]
    },
    {
     "name": "stderr",
     "output_type": "stream",
     "text": [
      "C:\\Users\\mirae\\anaconda3\\lib\\site-packages\\pandas\\core\\internals\\blocks.py:402: RuntimeWarning: invalid value encountered in log\n",
      "  result = func(self.values, **kwargs)\n"
     ]
    },
    {
     "data": {
      "image/png": "[encoded data removed]",
      "text/plain": [
       "<Figure size 432x288 with 1 Axes>"
      ]
     },
     "metadata": {
      "needs_background": "light"
     },
     "output_type": "display_data"
    },
    {
     "name": "stdout",
     "output_type": "stream",
     "text": [
      "good\n"
     ]
    }
   ],
   "source": [
    "if p_v > 0.05:\n",
    "    kpss_diffs = ndiffs(train, alpha=0.05, test='kpss', max_d=6)\n",
    "    adf_diffs = ndiffs(train, alpha=0.05, test='adf', max_d=6)\n",
    "    n_diffs = max(adf_diffs, kpss_diffs)\n",
    "    \n",
    "    print('n_diffs :', n_diffs)\n",
    "    \n",
    "    if n_diffs>0:\n",
    "        d = n_diffs\n",
    "        \n",
    "        diff_train = train.diff(d)\n",
    "        \n",
    "        diff_train = diff_train.dropna(axis=0)\n",
    "        \n",
    "        diff_p_v = adf_test(diff_train)\n",
    "        print('diff p_value :', diff_p_v) #대부분 여기서 0.05 이하로 나오지 않을까\n",
    "        \n",
    "        if diff_p_v > 0.05: #분산 일정x 경우\n",
    "            log_train = np.log(diff_train) \n",
    "            # 오류해결방법..\n",
    "            # RuntimeWarning: invalid value encountered in log result = func(self.values, **kwargs)\n",
    "            #\n",
    "            \n",
    "            log_train = log_train.dropna(axis=0)\n",
    "\n",
    "            log_p_v = adf_test(log_train)\n",
    "            print('log p_value :', log_p_v) \n",
    "            \n",
    "            plt.plot(log_train)\n",
    "            plt.show()               \n",
    "            \n",
    "            if ((log_p_v) > 0.05): #이건\n",
    "                print('?????????????????????????')\n",
    "            else:\n",
    "                print('good')"
   ]
  },
  {
   "cell_type": "code",
   "execution_count": 76,
   "id": "a342c87f-cbf6-463a-9e28-7d71adb10ea3",
   "metadata": {},
   "outputs": [],
   "source": [
    "def autoarima(train):\n",
    "    \n",
    "    model = 0\n",
    "    ex = 99999 \n",
    "    m = 1\n",
    "    \n",
    "    for m_test in [1, 7, 12]: #52까지 하면 웹꺼짐..추가 입력을 받자..\n",
    "        arima = auto_arima(\n",
    "                    y = train, \n",
    "                    d = d, \n",
    "                    m = m_test, \n",
    "                    seasonal = True, \n",
    "                    trace = True\n",
    "                )\n",
    "        if arima.aic() < ex:\n",
    "            ex = arima.aic()\n",
    "            models = arima\n",
    "            m = m_test\n",
    "            \n",
    "    return [models, m]"
   ]
  },
  {
   "cell_type": "code",
   "execution_count": 77,
   "id": "5a1d1579-3c46-4321-b675-4e551bcc5329",
   "metadata": {},
   "outputs": [
    {
     "name": "stdout",
     "output_type": "stream",
     "text": [
      "Performing stepwise search to minimize aic\n",
      " ARIMA(2,1,2)(0,0,0)[0] intercept   : AIC=inf, Time=0.61 sec\n",
      " ARIMA(0,1,0)(0,0,0)[0] intercept   : AIC=1694.981, Time=0.03 sec\n",
      " ARIMA(1,1,0)(0,0,0)[0] intercept   : AIC=1695.041, Time=0.05 sec\n",
      " ARIMA(0,1,1)(0,0,0)[0] intercept   : AIC=1693.903, Time=0.04 sec\n",
      " ARIMA(0,1,0)(0,0,0)[0]             : AIC=1692.992, Time=0.02 sec\n",
      " ARIMA(1,1,1)(0,0,0)[0] intercept   : AIC=1698.275, Time=0.12 sec\n",
      "\n",
      "Best model:  ARIMA(0,1,0)(0,0,0)[0]          \n",
      "Total fit time: 0.872 seconds\n",
      "Performing stepwise search to minimize aic\n",
      " ARIMA(2,1,2)(1,0,1)[7] intercept   : AIC=1640.732, Time=0.79 sec\n",
      " ARIMA(0,1,0)(0,0,0)[7] intercept   : AIC=1694.981, Time=0.04 sec\n",
      " ARIMA(1,1,0)(1,0,0)[7] intercept   : AIC=1695.621, Time=0.07 sec\n",
      " ARIMA(0,1,1)(0,0,1)[7] intercept   : AIC=1694.456, Time=0.07 sec\n",
      " ARIMA(0,1,0)(0,0,0)[7]             : AIC=1692.992, Time=0.04 sec\n",
      " ARIMA(2,1,2)(0,0,1)[7] intercept   : AIC=inf, Time=0.56 sec\n",
      " ARIMA(2,1,2)(1,0,0)[7] intercept   : AIC=inf, Time=0.56 sec\n",
      " ARIMA(2,1,2)(2,0,1)[7] intercept   : AIC=inf, Time=0.48 sec\n",
      " ARIMA(2,1,2)(1,0,2)[7] intercept   : AIC=inf, Time=0.74 sec\n",
      " ARIMA(2,1,2)(0,0,0)[7] intercept   : AIC=inf, Time=0.29 sec\n",
      " ARIMA(2,1,2)(0,0,2)[7] intercept   : AIC=1643.776, Time=0.50 sec\n",
      " ARIMA(2,1,2)(2,0,0)[7] intercept   : AIC=inf, Time=0.48 sec\n",
      " ARIMA(2,1,2)(2,0,2)[7] intercept   : AIC=inf, Time=0.60 sec\n",
      " ARIMA(1,1,2)(1,0,1)[7] intercept   : AIC=1692.565, Time=0.32 sec\n",
      " ARIMA(2,1,1)(1,0,1)[7] intercept   : AIC=1703.411, Time=0.21 sec\n",
      " ARIMA(3,1,2)(1,0,1)[7] intercept   : AIC=inf, Time=0.42 sec\n",
      " ARIMA(2,1,3)(1,0,1)[7] intercept   : AIC=inf, Time=0.44 sec\n",
      " ARIMA(1,1,1)(1,0,1)[7] intercept   : AIC=1700.257, Time=0.17 sec\n",
      " ARIMA(1,1,3)(1,0,1)[7] intercept   : AIC=1693.671, Time=0.40 sec\n",
      " ARIMA(3,1,1)(1,0,1)[7] intercept   : AIC=inf, Time=0.39 sec\n",
      " ARIMA(3,1,3)(1,0,1)[7] intercept   : AIC=inf, Time=0.60 sec\n",
      " ARIMA(2,1,2)(1,0,1)[7]             : AIC=inf, Time=0.35 sec\n",
      "\n",
      "Best model:  ARIMA(2,1,2)(1,0,1)[7] intercept\n",
      "Total fit time: 8.556 seconds\n",
      "Performing stepwise search to minimize aic\n",
      " ARIMA(2,1,2)(1,1,1)[12]             : AIC=1252.921, Time=0.85 sec\n",
      " ARIMA(0,1,0)(0,1,0)[12]             : AIC=1252.181, Time=0.02 sec\n",
      " ARIMA(1,1,0)(1,1,0)[12]             : AIC=1251.663, Time=0.08 sec\n",
      " ARIMA(0,1,1)(0,1,1)[12]             : AIC=1251.549, Time=0.08 sec\n",
      " ARIMA(0,1,1)(0,1,0)[12]             : AIC=1252.331, Time=0.02 sec\n",
      " ARIMA(0,1,1)(1,1,1)[12]             : AIC=1253.495, Time=0.22 sec\n",
      " ARIMA(0,1,1)(0,1,2)[12]             : AIC=1253.515, Time=0.17 sec\n",
      " ARIMA(0,1,1)(1,1,0)[12]             : AIC=1251.581, Time=0.11 sec\n",
      " ARIMA(0,1,1)(1,1,2)[12]             : AIC=1255.518, Time=0.18 sec\n",
      " ARIMA(0,1,0)(0,1,1)[12]             : AIC=1253.709, Time=0.04 sec\n",
      " ARIMA(1,1,1)(0,1,1)[12]             : AIC=1252.018, Time=0.16 sec\n",
      " ARIMA(0,1,2)(0,1,1)[12]             : AIC=1250.212, Time=0.08 sec\n",
      " ARIMA(0,1,2)(0,1,0)[12]             : AIC=1250.351, Time=0.04 sec\n",
      " ARIMA(0,1,2)(1,1,1)[12]             : AIC=1252.205, Time=0.28 sec\n",
      " ARIMA(0,1,2)(0,1,2)[12]             : AIC=1252.207, Time=0.19 sec\n",
      " ARIMA(0,1,2)(1,1,0)[12]             : AIC=1250.206, Time=0.08 sec\n",
      " ARIMA(0,1,2)(2,1,0)[12]             : AIC=1252.205, Time=0.19 sec\n",
      " ARIMA(0,1,2)(2,1,1)[12]             : AIC=1254.206, Time=0.22 sec\n",
      " ARIMA(1,1,2)(1,1,0)[12]             : AIC=1251.201, Time=0.17 sec\n",
      " ARIMA(0,1,3)(1,1,0)[12]             : AIC=1251.357, Time=0.11 sec\n",
      " ARIMA(1,1,1)(1,1,0)[12]             : AIC=1252.035, Time=0.19 sec\n",
      " ARIMA(1,1,3)(1,1,0)[12]             : AIC=1253.010, Time=0.30 sec\n",
      " ARIMA(0,1,2)(1,1,0)[12] intercept   : AIC=1251.810, Time=0.09 sec\n",
      "\n",
      "Best model:  ARIMA(0,1,2)(1,1,0)[12]          \n",
      "Total fit time: 3.890 seconds\n"
     ]
    }
   ],
   "source": [
    "model, m = autoarima(train)"
   ]
  },
  {
   "cell_type": "code",
   "execution_count": 78,
   "id": "13fac306-e92c-4ea5-bc29-2d12df60c0c3",
   "metadata": {},
   "outputs": [
    {
     "data": {
      "text/plain": [
       "ARIMA(order=(0, 1, 2), scoring_args={}, seasonal_order=(1, 1, 0, 12),\n",
       "      suppress_warnings=True, with_intercept=False)"
      ]
     },
     "execution_count": 78,
     "metadata": {},
     "output_type": "execute_result"
    }
   ],
   "source": [
    "model"
   ]
  },
  {
   "cell_type": "markdown",
   "id": "e01e59e3-736e-4716-9cea-d3d2334e6c70",
   "metadata": {},
   "source": [
    "SARIMAX\n",
    "\n",
    "https://towardsdatascience.com/time-series-forecasting-with-sarima-in-python-cda5b793977b"
   ]
  },
  {
   "cell_type": "code",
   "execution_count": null,
   "id": "c53973b4-248d-4878-be31-bef6272230c2",
   "metadata": {},
   "outputs": [],
   "source": [
    "if model.seasonal_order == (0,0,0,0):\n",
    "    \n",
    "    arima = ARIMA(model.order)\n",
    "    \n",
    "else:\n",
    "    \n",
    "    arima = SARIMA()"
   ]
  },
  {
   "cell_type": "code",
   "execution_count": null,
   "id": "8a0cbd87-283b-4c7c-8917-84fc52b35940",
   "metadata": {},
   "outputs": [],
   "source": [
    "order = model.order\n",
    "season_order"
   ]
  },
  {
   "cell_type": "code",
   "execution_count": null,
   "id": "6123ea4c-f9a1-41a9-8453-a51ef06f6d7c",
   "metadata": {},
   "outputs": [],
   "source": [
    "arima = ARIMA()"
   ]
  },
  {
   "cell_type": "code",
   "execution_count": null,
   "id": "e13c4739-865f-4a50-b25f-d06725134042",
   "metadata": {},
   "outputs": [],
   "source": []
  }
 ],
 "metadata": {
  "kernelspec": {
   "display_name": "Python 3 (ipykernel)",
   "language": "python",
   "name": "python3"
  },
  "language_info": {
   "codemirror_mode": {
    "name": "ipython",
    "version": 3
   },
   "file_extension": ".py",
   "mimetype": "text/x-python",
   "name": "python",
   "nbconvert_exporter": "python",
   "pygments_lexer": "ipython3",
   "version": "3.9.12"
  }
 },
 "nbformat": 4,
 "nbformat_minor": 5
}
