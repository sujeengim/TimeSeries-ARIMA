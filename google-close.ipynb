{
 "cells": [
  {
   "cell_type": "markdown",
   "id": "7b6b65fb-46d0-4e28-93cc-e8092d63e6c4",
   "metadata": {},
   "source": [
    "electricity.csv데이터 기간이 좀 짧은거 같아서 공백 없는 더 긴  데이터 찾아 다시 예측 "
   ]
  },
  {
   "cell_type": "code",
   "execution_count": 1,
   "id": "35da650f-3c77-4ced-8262-b55766ccd2a0",
   "metadata": {},
   "outputs": [
    {
     "name": "stdout",
     "output_type": "stream",
     "text": [
      "Requirement already satisfied: pmdarima in c:\\users\\mirae\\appdata\\roaming\\python\\python39\\site-packages (2.0.2)\n",
      "Requirement already satisfied: scikit-learn>=0.22 in c:\\users\\mirae\\anaconda3\\lib\\site-packages (from pmdarima) (1.0.2)\n",
      "Requirement already satisfied: setuptools!=50.0.0,>=38.6.0 in c:\\users\\mirae\\anaconda3\\lib\\site-packages (from pmdarima) (61.2.0)\n",
      "Requirement already satisfied: urllib3 in c:\\users\\mirae\\anaconda3\\lib\\site-packages (from pmdarima) (1.26.9)\n",
      "Requirement already satisfied: numpy>=1.21.2 in c:\\users\\mirae\\anaconda3\\lib\\site-packages (from pmdarima) (1.21.5)\n",
      "Requirement already satisfied: joblib>=0.11 in c:\\users\\mirae\\anaconda3\\lib\\site-packages (from pmdarima) (1.1.0)\n",
      "Requirement already satisfied: scipy>=1.3.2 in c:\\users\\mirae\\anaconda3\\lib\\site-packages (from pmdarima) (1.7.3)\n",
      "Requirement already satisfied: Cython!=0.29.18,!=0.29.31,>=0.29 in c:\\users\\mirae\\anaconda3\\lib\\site-packages (from pmdarima) (0.29.28)\n",
      "Requirement already satisfied: pandas>=0.19 in c:\\users\\mirae\\anaconda3\\lib\\site-packages (from pmdarima) (1.4.2)\n",
      "Requirement already satisfied: statsmodels>=0.13.2 in c:\\users\\mirae\\anaconda3\\lib\\site-packages (from pmdarima) (0.13.2)\n",
      "Requirement already satisfied: pytz>=2020.1 in c:\\users\\mirae\\anaconda3\\lib\\site-packages (from pandas>=0.19->pmdarima) (2021.3)\n",
      "Requirement already satisfied: python-dateutil>=2.8.1 in c:\\users\\mirae\\anaconda3\\lib\\site-packages (from pandas>=0.19->pmdarima) (2.8.2)\n",
      "Requirement already satisfied: six>=1.5 in c:\\users\\mirae\\anaconda3\\lib\\site-packages (from python-dateutil>=2.8.1->pandas>=0.19->pmdarima) (1.16.0)\n",
      "Requirement already satisfied: threadpoolctl>=2.0.0 in c:\\users\\mirae\\anaconda3\\lib\\site-packages (from scikit-learn>=0.22->pmdarima) (2.2.0)\n",
      "Requirement already satisfied: patsy>=0.5.2 in c:\\users\\mirae\\anaconda3\\lib\\site-packages (from statsmodels>=0.13.2->pmdarima) (0.5.2)\n",
      "Requirement already satisfied: packaging>=21.3 in c:\\users\\mirae\\anaconda3\\lib\\site-packages (from statsmodels>=0.13.2->pmdarima) (21.3)\n",
      "Requirement already satisfied: pyparsing!=3.0.5,>=2.0.2 in c:\\users\\mirae\\anaconda3\\lib\\site-packages (from packaging>=21.3->statsmodels>=0.13.2->pmdarima) (3.0.4)\n",
      "Note: you may need to restart the kernel to use updated packages.\n"
     ]
    }
   ],
   "source": [
    "pip install pmdarima"
   ]
  },
  {
   "cell_type": "code",
   "execution_count": 2,
   "id": "30f1c052-44e7-47aa-94a9-9966f585b8ca",
   "metadata": {},
   "outputs": [],
   "source": [
    "import pandas as pd\n",
    "\n",
    "import numpy as np\n",
    "\n",
    "import matplotlib.pyplot as plt\n",
    "\n",
    "from pmdarima.arima import auto_arima\n",
    "from pmdarima.arima import ndiffs\n",
    "\n",
    "from statsmodels.graphics.tsaplots import plot_acf, plot_pacf\n",
    "from statsmodels.tsa.stattools import adfuller\n",
    "from statsmodels.tsa.arima.model import ARIMA\n",
    "from statsmodels.tsa.statespace.sarimax import SARIMAX"
   ]
  },
  {
   "cell_type": "code",
   "execution_count": 3,
   "id": "8f8ee079-387d-49d6-b967-36c2211ff6be",
   "metadata": {},
   "outputs": [],
   "source": [
    "path = 'data/google.csv'\n",
    "\n",
    "data = pd.read_csv(path)"
   ]
  },
  {
   "cell_type": "code",
   "execution_count": 4,
   "id": "bb4f13d5-ff94-4a57-b31d-79aeb023902c",
   "metadata": {},
   "outputs": [
    {
     "data": {
      "text/html": [
       "<div>\n",
       "<style scoped>\n",
       "    .dataframe tbody tr th:only-of-type {\n",
       "        vertical-align: middle;\n",
       "    }\n",
       "\n",
       "    .dataframe tbody tr th {\n",
       "        vertical-align: top;\n",
       "    }\n",
       "\n",
       "    .dataframe thead th {\n",
       "        text-align: right;\n",
       "    }\n",
       "</style>\n",
       "<table border=\"1\" class=\"dataframe\">\n",
       "  <thead>\n",
       "    <tr style=\"text-align: right;\">\n",
       "      <th></th>\n",
       "      <th>Date</th>\n",
       "      <th>Open</th>\n",
       "      <th>High</th>\n",
       "      <th>Low</th>\n",
       "      <th>Close</th>\n",
       "      <th>Adj Close</th>\n",
       "      <th>Volume</th>\n",
       "    </tr>\n",
       "  </thead>\n",
       "  <tbody>\n",
       "    <tr>\n",
       "      <th>0</th>\n",
       "      <td>2004-08-20</td>\n",
       "      <td>2.527778</td>\n",
       "      <td>2.729730</td>\n",
       "      <td>2.515015</td>\n",
       "      <td>2.710460</td>\n",
       "      <td>2.710460</td>\n",
       "      <td>456686856</td>\n",
       "    </tr>\n",
       "    <tr>\n",
       "      <th>1</th>\n",
       "      <td>2004-08-23</td>\n",
       "      <td>2.771522</td>\n",
       "      <td>2.839840</td>\n",
       "      <td>2.728979</td>\n",
       "      <td>2.737738</td>\n",
       "      <td>2.737738</td>\n",
       "      <td>365122512</td>\n",
       "    </tr>\n",
       "    <tr>\n",
       "      <th>2</th>\n",
       "      <td>2004-08-24</td>\n",
       "      <td>2.783784</td>\n",
       "      <td>2.792793</td>\n",
       "      <td>2.591842</td>\n",
       "      <td>2.624374</td>\n",
       "      <td>2.624374</td>\n",
       "      <td>304946748</td>\n",
       "    </tr>\n",
       "    <tr>\n",
       "      <th>3</th>\n",
       "      <td>2004-08-25</td>\n",
       "      <td>2.626627</td>\n",
       "      <td>2.702703</td>\n",
       "      <td>2.599600</td>\n",
       "      <td>2.652653</td>\n",
       "      <td>2.652653</td>\n",
       "      <td>183772044</td>\n",
       "    </tr>\n",
       "    <tr>\n",
       "      <th>4</th>\n",
       "      <td>2004-08-26</td>\n",
       "      <td>2.626376</td>\n",
       "      <td>2.701451</td>\n",
       "      <td>2.619119</td>\n",
       "      <td>2.700450</td>\n",
       "      <td>2.700450</td>\n",
       "      <td>141897960</td>\n",
       "    </tr>\n",
       "    <tr>\n",
       "      <th>...</th>\n",
       "      <td>...</td>\n",
       "      <td>...</td>\n",
       "      <td>...</td>\n",
       "      <td>...</td>\n",
       "      <td>...</td>\n",
       "      <td>...</td>\n",
       "      <td>...</td>\n",
       "    </tr>\n",
       "    <tr>\n",
       "      <th>4512</th>\n",
       "      <td>2022-07-25</td>\n",
       "      <td>108.410004</td>\n",
       "      <td>109.870003</td>\n",
       "      <td>106.300003</td>\n",
       "      <td>107.510002</td>\n",
       "      <td>107.510002</td>\n",
       "      <td>34690900</td>\n",
       "    </tr>\n",
       "    <tr>\n",
       "      <th>4513</th>\n",
       "      <td>2022-07-26</td>\n",
       "      <td>106.599998</td>\n",
       "      <td>107.199997</td>\n",
       "      <td>104.070000</td>\n",
       "      <td>105.019997</td>\n",
       "      <td>105.019997</td>\n",
       "      <td>47991000</td>\n",
       "    </tr>\n",
       "    <tr>\n",
       "      <th>4514</th>\n",
       "      <td>2022-07-27</td>\n",
       "      <td>109.260002</td>\n",
       "      <td>113.910004</td>\n",
       "      <td>108.010002</td>\n",
       "      <td>113.059998</td>\n",
       "      <td>113.059998</td>\n",
       "      <td>59858500</td>\n",
       "    </tr>\n",
       "    <tr>\n",
       "      <th>4515</th>\n",
       "      <td>2022-07-28</td>\n",
       "      <td>112.370003</td>\n",
       "      <td>114.339996</td>\n",
       "      <td>111.459999</td>\n",
       "      <td>114.220001</td>\n",
       "      <td>114.220001</td>\n",
       "      <td>32816600</td>\n",
       "    </tr>\n",
       "    <tr>\n",
       "      <th>4516</th>\n",
       "      <td>2022-07-29</td>\n",
       "      <td>113.080002</td>\n",
       "      <td>116.709999</td>\n",
       "      <td>113.059998</td>\n",
       "      <td>116.320000</td>\n",
       "      <td>116.320000</td>\n",
       "      <td>37223400</td>\n",
       "    </tr>\n",
       "  </tbody>\n",
       "</table>\n",
       "<p>4517 rows × 7 columns</p>\n",
       "</div>"
      ],
      "text/plain": [
       "            Date        Open        High         Low       Close   Adj Close  \\\n",
       "0     2004-08-20    2.527778    2.729730    2.515015    2.710460    2.710460   \n",
       "1     2004-08-23    2.771522    2.839840    2.728979    2.737738    2.737738   \n",
       "2     2004-08-24    2.783784    2.792793    2.591842    2.624374    2.624374   \n",
       "3     2004-08-25    2.626627    2.702703    2.599600    2.652653    2.652653   \n",
       "4     2004-08-26    2.626376    2.701451    2.619119    2.700450    2.700450   \n",
       "...          ...         ...         ...         ...         ...         ...   \n",
       "4512  2022-07-25  108.410004  109.870003  106.300003  107.510002  107.510002   \n",
       "4513  2022-07-26  106.599998  107.199997  104.070000  105.019997  105.019997   \n",
       "4514  2022-07-27  109.260002  113.910004  108.010002  113.059998  113.059998   \n",
       "4515  2022-07-28  112.370003  114.339996  111.459999  114.220001  114.220001   \n",
       "4516  2022-07-29  113.080002  116.709999  113.059998  116.320000  116.320000   \n",
       "\n",
       "         Volume  \n",
       "0     456686856  \n",
       "1     365122512  \n",
       "2     304946748  \n",
       "3     183772044  \n",
       "4     141897960  \n",
       "...         ...  \n",
       "4512   34690900  \n",
       "4513   47991000  \n",
       "4514   59858500  \n",
       "4515   32816600  \n",
       "4516   37223400  \n",
       "\n",
       "[4517 rows x 7 columns]"
      ]
     },
     "execution_count": 4,
     "metadata": {},
     "output_type": "execute_result"
    }
   ],
   "source": [
    "data #구글주식"
   ]
  },
  {
   "cell_type": "code",
   "execution_count": 23,
   "id": "9ccf6271-cef5-45cc-a323-2c17f4d4c4ca",
   "metadata": {},
   "outputs": [
    {
     "name": "stdout",
     "output_type": "stream",
     "text": [
      "<class 'pandas.core.frame.DataFrame'>\n",
      "RangeIndex: 4517 entries, 0 to 4516\n",
      "Data columns (total 7 columns):\n",
      " #   Column     Non-Null Count  Dtype  \n",
      "---  ------     --------------  -----  \n",
      " 0   Date       4517 non-null   object \n",
      " 1   Open       4517 non-null   float64\n",
      " 2   High       4517 non-null   float64\n",
      " 3   Low        4517 non-null   float64\n",
      " 4   Close      4517 non-null   float64\n",
      " 5   Adj Close  4517 non-null   float64\n",
      " 6   Volume     4517 non-null   int64  \n",
      "dtypes: float64(5), int64(1), object(1)\n",
      "memory usage: 247.1+ KB\n"
     ]
    }
   ],
   "source": [
    "data.info()"
   ]
  },
  {
   "cell_type": "code",
   "execution_count": 25,
   "id": "466228f4-4fee-4412-a2ea-7d8892195526",
   "metadata": {},
   "outputs": [
    {
     "data": {
      "text/html": [
       "<div>\n",
       "<style scoped>\n",
       "    .dataframe tbody tr th:only-of-type {\n",
       "        vertical-align: middle;\n",
       "    }\n",
       "\n",
       "    .dataframe tbody tr th {\n",
       "        vertical-align: top;\n",
       "    }\n",
       "\n",
       "    .dataframe thead th {\n",
       "        text-align: right;\n",
       "    }\n",
       "</style>\n",
       "<table border=\"1\" class=\"dataframe\">\n",
       "  <thead>\n",
       "    <tr style=\"text-align: right;\">\n",
       "      <th></th>\n",
       "      <th>y</th>\n",
       "    </tr>\n",
       "    <tr>\n",
       "      <th>dates</th>\n",
       "      <th></th>\n",
       "    </tr>\n",
       "  </thead>\n",
       "  <tbody>\n",
       "    <tr>\n",
       "      <th>2004-08-20</th>\n",
       "      <td>2.710460</td>\n",
       "    </tr>\n",
       "    <tr>\n",
       "      <th>2004-08-23</th>\n",
       "      <td>2.737738</td>\n",
       "    </tr>\n",
       "    <tr>\n",
       "      <th>2004-08-24</th>\n",
       "      <td>2.624374</td>\n",
       "    </tr>\n",
       "    <tr>\n",
       "      <th>2004-08-25</th>\n",
       "      <td>2.652653</td>\n",
       "    </tr>\n",
       "    <tr>\n",
       "      <th>2004-08-26</th>\n",
       "      <td>2.700450</td>\n",
       "    </tr>\n",
       "    <tr>\n",
       "      <th>...</th>\n",
       "      <td>...</td>\n",
       "    </tr>\n",
       "    <tr>\n",
       "      <th>2022-07-25</th>\n",
       "      <td>107.510002</td>\n",
       "    </tr>\n",
       "    <tr>\n",
       "      <th>2022-07-26</th>\n",
       "      <td>105.019997</td>\n",
       "    </tr>\n",
       "    <tr>\n",
       "      <th>2022-07-27</th>\n",
       "      <td>113.059998</td>\n",
       "    </tr>\n",
       "    <tr>\n",
       "      <th>2022-07-28</th>\n",
       "      <td>114.220001</td>\n",
       "    </tr>\n",
       "    <tr>\n",
       "      <th>2022-07-29</th>\n",
       "      <td>116.320000</td>\n",
       "    </tr>\n",
       "  </tbody>\n",
       "</table>\n",
       "<p>4517 rows × 1 columns</p>\n",
       "</div>"
      ],
      "text/plain": [
       "                     y\n",
       "dates                 \n",
       "2004-08-20    2.710460\n",
       "2004-08-23    2.737738\n",
       "2004-08-24    2.624374\n",
       "2004-08-25    2.652653\n",
       "2004-08-26    2.700450\n",
       "...                ...\n",
       "2022-07-25  107.510002\n",
       "2022-07-26  105.019997\n",
       "2022-07-27  113.059998\n",
       "2022-07-28  114.220001\n",
       "2022-07-29  116.320000\n",
       "\n",
       "[4517 rows x 1 columns]"
      ]
     },
     "execution_count": 25,
     "metadata": {},
     "output_type": "execute_result"
    }
   ],
   "source": [
    "\n",
    "\n",
    "df = data[['Date', 'Close']] #두 변수만 남김\n",
    "\n",
    "df = df.rename(columns = {\n",
    "    'Date':'dates',\n",
    "    'Close':'y'\n",
    "})\n",
    "\n",
    "df['dates'] = pd.to_datetime(df['dates'])\n",
    "\n",
    "df = df.set_index('dates', drop=True)\n",
    "\n",
    "df"
   ]
  },
  {
   "cell_type": "code",
   "execution_count": 26,
   "id": "ef664457-ccb9-432c-b80b-b0bce93318d6",
   "metadata": {},
   "outputs": [
    {
     "data": {
      "text/plain": [
       "<AxesSubplot:title={'center':'Google Close'}, xlabel='dates'>"
      ]
     },
     "execution_count": 26,
     "metadata": {},
     "output_type": "execute_result"
    },
    {
     "data": {
      "image/png": "[encoded data removed]",
      "text/plain": [
       "<Figure size 432x288 with 1 Axes>"
      ]
     },
     "metadata": {
      "needs_background": "light"
     },
     "output_type": "display_data"
    }
   ],
   "source": [
    "df.plot(title='Google Close')"
   ]
  },
  {
   "cell_type": "markdown",
   "id": "2038bf2c-16c8-41da-b29a-5778c9ef2253",
   "metadata": {},
   "source": [
    "추세?"
   ]
  },
  {
   "cell_type": "code",
   "execution_count": 27,
   "id": "038f9a75-5996-4d66-8ffc-8df44df641e2",
   "metadata": {},
   "outputs": [
    {
     "name": "stdout",
     "output_type": "stream",
     "text": [
      "<class 'pandas.core.frame.DataFrame'>\n",
      "DatetimeIndex: 4517 entries, 2004-08-20 to 2022-07-29\n",
      "Data columns (total 1 columns):\n",
      " #   Column  Non-Null Count  Dtype  \n",
      "---  ------  --------------  -----  \n",
      " 0   y       4517 non-null   float64\n",
      "dtypes: float64(1)\n",
      "memory usage: 70.6 KB\n"
     ]
    }
   ],
   "source": [
    "df.info() #null없음"
   ]
  },
  {
   "cell_type": "code",
   "execution_count": 28,
   "id": "962cfe17-d3d5-4850-83c9-956fd50bc50b",
   "metadata": {},
   "outputs": [],
   "source": [
    "me = df.copy(deep=True) #복사"
   ]
  },
  {
   "cell_type": "code",
   "execution_count": 29,
   "id": "641aa01e-0e1e-48ac-8e0c-98ce2fc646fa",
   "metadata": {},
   "outputs": [
    {
     "name": "stdout",
     "output_type": "stream",
     "text": [
      "< Input >\n",
      "                     y\n",
      "dates                 \n",
      "2004-08-20    2.710460\n",
      "2004-08-23    2.737738\n",
      "2004-08-24    2.624374\n",
      "2004-08-25    2.652653\n",
      "2004-08-26    2.700450\n",
      "...                ...\n",
      "2022-07-25  107.510002\n",
      "2022-07-26  105.019997\n",
      "2022-07-27  113.059998\n",
      "2022-07-28  114.220001\n",
      "2022-07-29  116.320000\n",
      "\n",
      "[4517 rows x 1 columns]\n"
     ]
    }
   ],
   "source": [
    "print('< Input >')\n",
    "print(me) #데이터 확인"
   ]
  },
  {
   "cell_type": "code",
   "execution_count": 30,
   "id": "861f5c99-7946-4f75-8260-93bbd95bbc31",
   "metadata": {},
   "outputs": [
    {
     "name": "stdout",
     "output_type": "stream",
     "text": [
      "train len : 3162 , test len : 1355\n"
     ]
    }
   ],
   "source": [
    "split = int(0.3*len(me)) #7:3 비율\n",
    "\n",
    "train = me[split:] #학습\n",
    "test = me[:split] #예측\n",
    "\n",
    "print('train len :', len(train), ', test len :', len(test))"
   ]
  },
  {
   "cell_type": "code",
   "execution_count": 31,
   "id": "4e082262-f023-4c0f-a9b9-060ecc6ce10c",
   "metadata": {},
   "outputs": [],
   "source": [
    "## adf 검정 ; pvalue 확인 함수\n",
    "def adf_test(train):\n",
    "    stat, p_value, lags, nobs, crit, icb = adfuller(train)\n",
    "    return p_value"
   ]
  },
  {
   "cell_type": "code",
   "execution_count": 32,
   "id": "ac0ff7ff-d48b-4c5b-b4e7-04ae86f60ae0",
   "metadata": {},
   "outputs": [
    {
     "name": "stdout",
     "output_type": "stream",
     "text": [
      ".....original pvalue : 0.9785332308577593\n"
     ]
    }
   ],
   "source": [
    "p_v = adf_test(train = train)\n",
    "print('.....original pvalue :', p_v)"
   ]
  },
  {
   "cell_type": "code",
   "execution_count": 33,
   "id": "e717d1b9-8283-4fb3-a9bc-cde9b4473558",
   "metadata": {},
   "outputs": [],
   "source": [
    "## 정상성 확인 및 변환 함수\n",
    "def stationary(p_v, train):\n",
    "    \n",
    "    d = 0\n",
    "    plot_acf(train, title='Train')\n",
    "    \n",
    "    if p_v > 0.05:\n",
    "        kpss_diffs = ndiffs(train, alpha=0.05, test='kpss', max_d=6)\n",
    "        adf_diffs = ndiffs(train, alpha=0.05, test='adf', max_d=6)\n",
    "        d = max(adf_diffs, kpss_diffs)\n",
    "        print('.....n_diffs :', d)\n",
    "        \n",
    "        \n",
    "        diff1_train = train.diff(d)\n",
    "        diff1_train = diff1_train.dropna(axis=0)\n",
    "        a = adf_test(diff1_train)\n",
    "        \n",
    "        plot_acf(diff1_train, title='Diff1 Train')\n",
    "        plot_pacf(diff1_train, title='p Diff1 Train')\n",
    "        \n",
    "        if adf_test(diff1_train) >0.05:\n",
    "            diff1_log2_train = np.log(diff1_train)\n",
    "            diff1_log2_train = diff1_log2_train.dropna(axis=0)\n",
    "            a = adf_test(diff1_log2_train)\n",
    "            plot_acf(diff1_log2_train, title='Diff1 Log2 Train')\n",
    "            plot_pacf(diff1_log2_train, lags=11, title='p Diff1 Log2 Train')\n",
    "            \n",
    "                  \n",
    "        log1_train = np.log(train)\n",
    "        log1_train = log1_train.dropna(axis=0)\n",
    "        b = adf_test(log1_train)\n",
    "        plot_acf(log1_train, title='Log1 Train')\n",
    "        plot_pacf(log1_train, title='p Log1 Train')\n",
    "        # log1_train = log1_train.dropna(axis=0)\n",
    "        if adf_test(log1_train) >0.05:\n",
    "            log1_diff2_train = log1_train.diff(d)\n",
    "            log1_diff2_train = log1_diff2_train.dropna(axis=0)\n",
    "            b = adf_test(log1_diff2_train)\n",
    "            plot_acf(log1_diff2_train, title='Log1 Diff2 Train')\n",
    "            plot_pacf(log1_diff2_train, title='p Log1 Diff2 Train')\n",
    "            \n",
    "        print('과연과연', a, b, sep='\\n')\n",
    "            \n",
    "        \n",
    "    else:\n",
    "        print('Already Stationary data')\n",
    "    \n",
    "    \n",
    "    return [d, train]"
   ]
  },
  {
   "cell_type": "code",
   "execution_count": 34,
   "id": "ce734d0c-80fe-4ae3-a521-e200d0e5175b",
   "metadata": {},
   "outputs": [
    {
     "name": "stdout",
     "output_type": "stream",
     "text": [
      ".....n_diffs : 1\n"
     ]
    },
    {
     "name": "stderr",
     "output_type": "stream",
     "text": [
      "C:\\Users\\mirae\\anaconda3\\lib\\site-packages\\statsmodels\\graphics\\tsaplots.py:348: FutureWarning: The default method 'yw' can produce PACF values outside of the [-1,1] interval. After 0.13, the default will change tounadjusted Yule-Walker ('ywm'). You can use this method now by setting method='ywm'.\n",
      "  warnings.warn(\n",
      "C:\\Users\\mirae\\anaconda3\\lib\\site-packages\\statsmodels\\graphics\\tsaplots.py:348: FutureWarning: The default method 'yw' can produce PACF values outside of the [-1,1] interval. After 0.13, the default will change tounadjusted Yule-Walker ('ywm'). You can use this method now by setting method='ywm'.\n",
      "  warnings.warn(\n"
     ]
    },
    {
     "name": "stdout",
     "output_type": "stream",
     "text": [
      "과연과연\n",
      "3.491462599461574e-20\n",
      "0.0\n"
     ]
    },
    {
     "name": "stderr",
     "output_type": "stream",
     "text": [
      "C:\\Users\\mirae\\anaconda3\\lib\\site-packages\\statsmodels\\graphics\\tsaplots.py:348: FutureWarning: The default method 'yw' can produce PACF values outside of the [-1,1] interval. After 0.13, the default will change tounadjusted Yule-Walker ('ywm'). You can use this method now by setting method='ywm'.\n",
      "  warnings.warn(\n"
     ]
    },
    {
     "data": {
      "image/png": "[encoded data removed]",
      "text/plain": [
       "<Figure size 432x288 with 1 Axes>"
      ]
     },
     "metadata": {
      "needs_background": "light"
     },
     "output_type": "display_data"
    },
    {
     "data": {
      "image/png": "[encoded data removed]",
      "text/plain": [
       "<Figure size 432x288 with 1 Axes>"
      ]
     },
     "metadata": {
      "needs_background": "light"
     },
     "output_type": "display_data"
    },
    {
     "data": {
      "image/png": "[encoded data removed]",
      "text/plain": [
       "<Figure size 432x288 with 1 Axes>"
      ]
     },
     "metadata": {
      "needs_background": "light"
     },
     "output_type": "display_data"
    },
    {
     "data": {
      "image/png": "[encoded data removed]",
      "text/plain": [
       "<Figure size 432x288 with 1 Axes>"
      ]
     },
     "metadata": {
      "needs_background": "light"
     },
     "output_type": "display_data"
    },
    {
     "data": {
      "image/png": "[encoded data removed]",
      "text/plain": [
       "<Figure size 432x288 with 1 Axes>"
      ]
     },
     "metadata": {
      "needs_background": "light"
     },
     "output_type": "display_data"
    },
    {
     "data": {
      "image/png": "[encoded data removed]",
      "text/plain": [
       "<Figure size 432x288 with 1 Axes>"
      ]
     },
     "metadata": {
      "needs_background": "light"
     },
     "output_type": "display_data"
    },
    {
     "data": {
      "image/png": "[encoded data removed]",
      "text/plain": [
       "<Figure size 432x288 with 1 Axes>"
      ]
     },
     "metadata": {
      "needs_background": "light"
     },
     "output_type": "display_data"
    }
   ],
   "source": [
    "diff, st_train = stationary(p_v=p_v, train = train)"
   ]
  },
  {
   "cell_type": "code",
   "execution_count": 35,
   "id": "817c665d-23a8-46bd-90ef-7c940e545dcf",
   "metadata": {},
   "outputs": [],
   "source": [
    "## 최적 모델 찾기\n",
    "\n",
    "def autoarima(train, diff, m52):\n",
    "\n",
    "    m_list = [1, 7, 12] #계절성 주기\n",
    "    if m52 == 'o':\n",
    "        m_list.append(52)\n",
    "    \n",
    "    model = None #모델\n",
    "    aic = 99999 #AIC\n",
    "    cycle = 1 #계절성 주기\n",
    "    \n",
    "    for m_test in m_list: #52까지 하면 꺼짐\n",
    "        arima = auto_arima(\n",
    "                y = train, \n",
    "                d = diff, #차분 횟수\n",
    "                m = m_test, \n",
    "                seasonal = True, \n",
    "                trace = True\n",
    "                )\n",
    "        if arima.aic() < aic:\n",
    "            aic = arima.aic()\n",
    "            model = arima\n",
    "            cycle = m_test\n",
    "            \n",
    "    return [cycle, model]"
   ]
  },
  {
   "cell_type": "code",
   "execution_count": 36,
   "id": "3847279e-5049-40a7-a3ff-01509712f094",
   "metadata": {},
   "outputs": [
    {
     "name": "stdout",
     "output_type": "stream",
     "text": [
      "< AutoArima >\n",
      "Performing stepwise search to minimize aic\n",
      " ARIMA(2,1,2)(0,0,0)[0] intercept   : AIC=9339.289, Time=2.99 sec\n",
      " ARIMA(0,1,0)(0,0,0)[0] intercept   : AIC=9359.400, Time=0.07 sec\n",
      " ARIMA(1,1,0)(0,0,0)[0] intercept   : AIC=9346.787, Time=0.22 sec\n",
      " ARIMA(0,1,1)(0,0,0)[0] intercept   : AIC=9347.342, Time=0.29 sec\n",
      " ARIMA(0,1,0)(0,0,0)[0]             : AIC=9360.282, Time=0.09 sec\n",
      " ARIMA(1,1,2)(0,0,0)[0] intercept   : AIC=9346.327, Time=1.25 sec\n",
      " ARIMA(2,1,1)(0,0,0)[0] intercept   : AIC=9346.330, Time=1.09 sec\n",
      " ARIMA(3,1,2)(0,0,0)[0] intercept   : AIC=inf, Time=4.41 sec\n",
      " ARIMA(2,1,3)(0,0,0)[0] intercept   : AIC=9334.988, Time=3.00 sec\n",
      " ARIMA(1,1,3)(0,0,0)[0] intercept   : AIC=9333.515, Time=1.44 sec\n",
      " ARIMA(0,1,3)(0,0,0)[0] intercept   : AIC=9338.363, Time=0.51 sec\n",
      " ARIMA(1,1,4)(0,0,0)[0] intercept   : AIC=9339.210, Time=2.92 sec\n",
      " ARIMA(0,1,2)(0,0,0)[0] intercept   : AIC=9348.252, Time=0.42 sec\n",
      " ARIMA(0,1,4)(0,0,0)[0] intercept   : AIC=9339.548, Time=0.55 sec\n",
      " ARIMA(2,1,4)(0,0,0)[0] intercept   : AIC=9336.945, Time=2.09 sec\n",
      " ARIMA(1,1,3)(0,0,0)[0]             : AIC=9335.889, Time=0.65 sec\n",
      "\n",
      "Best model:  ARIMA(1,1,3)(0,0,0)[0] intercept\n",
      "Total fit time: 22.008 seconds\n",
      "Performing stepwise search to minimize aic\n",
      " ARIMA(2,1,2)(1,0,1)[7] intercept   : AIC=9326.967, Time=5.96 sec\n",
      " ARIMA(0,1,0)(0,0,0)[7] intercept   : AIC=9359.400, Time=0.07 sec\n",
      " ARIMA(1,1,0)(1,0,0)[7] intercept   : AIC=9337.883, Time=0.39 sec\n",
      " ARIMA(0,1,1)(0,0,1)[7] intercept   : AIC=9338.867, Time=0.45 sec\n",
      " ARIMA(0,1,0)(0,0,0)[7]             : AIC=9360.282, Time=0.07 sec\n",
      " ARIMA(2,1,2)(0,0,1)[7] intercept   : AIC=9325.983, Time=4.73 sec\n",
      " ARIMA(2,1,2)(0,0,0)[7] intercept   : AIC=9339.289, Time=2.62 sec\n",
      " ARIMA(2,1,2)(0,0,2)[7] intercept   : AIC=9324.048, Time=7.49 sec\n",
      " ARIMA(2,1,2)(1,0,2)[7] intercept   : AIC=9322.185, Time=9.56 sec\n",
      " ARIMA(2,1,2)(2,0,2)[7] intercept   : AIC=9297.322, Time=9.47 sec\n",
      " ARIMA(2,1,2)(2,0,1)[7] intercept   : AIC=9326.866, Time=9.51 sec\n",
      " ARIMA(1,1,2)(2,0,2)[7] intercept   : AIC=inf, Time=10.07 sec\n",
      " ARIMA(2,1,1)(2,0,2)[7] intercept   : AIC=inf, Time=9.55 sec\n",
      " ARIMA(3,1,2)(2,0,2)[7] intercept   : AIC=9281.200, Time=10.33 sec\n",
      " ARIMA(3,1,2)(1,0,2)[7] intercept   : AIC=9320.929, Time=9.70 sec\n",
      " ARIMA(3,1,2)(2,0,1)[7] intercept   : AIC=9321.991, Time=10.67 sec\n",
      " ARIMA(3,1,2)(1,0,1)[7] intercept   : AIC=9318.815, Time=6.83 sec\n",
      " ARIMA(3,1,1)(2,0,2)[7] intercept   : AIC=9278.390, Time=10.63 sec\n",
      " ARIMA(3,1,1)(1,0,2)[7] intercept   : AIC=9314.514, Time=8.37 sec\n",
      " ARIMA(3,1,1)(2,0,1)[7] intercept   : AIC=inf, Time=9.32 sec\n",
      " ARIMA(3,1,1)(1,0,1)[7] intercept   : AIC=9319.259, Time=4.68 sec\n",
      " ARIMA(3,1,0)(2,0,2)[7] intercept   : AIC=inf, Time=9.82 sec\n",
      " ARIMA(4,1,1)(2,0,2)[7] intercept   : AIC=9283.832, Time=12.23 sec\n",
      " ARIMA(2,1,0)(2,0,2)[7] intercept   : AIC=9295.476, Time=7.08 sec\n",
      " ARIMA(4,1,0)(2,0,2)[7] intercept   : AIC=inf, Time=15.64 sec\n",
      " ARIMA(4,1,2)(2,0,2)[7] intercept   : AIC=9282.656, Time=13.51 sec\n",
      " ARIMA(3,1,1)(2,0,2)[7]             : AIC=inf, Time=6.07 sec\n",
      "\n",
      "Best model:  ARIMA(3,1,1)(2,0,2)[7] intercept\n",
      "Total fit time: 204.872 seconds\n",
      "Performing stepwise search to minimize aic\n",
      " ARIMA(2,1,2)(1,0,1)[12] intercept   : AIC=9342.111, Time=7.00 sec\n",
      " ARIMA(0,1,0)(0,0,0)[12] intercept   : AIC=9359.400, Time=0.08 sec\n",
      " ARIMA(1,1,0)(1,0,0)[12] intercept   : AIC=9347.689, Time=0.55 sec\n",
      " ARIMA(0,1,1)(0,0,1)[12] intercept   : AIC=9348.327, Time=0.63 sec\n",
      " ARIMA(0,1,0)(0,0,0)[12]             : AIC=9360.282, Time=0.06 sec\n",
      " ARIMA(2,1,2)(0,0,1)[12] intercept   : AIC=9340.782, Time=4.07 sec\n",
      " ARIMA(2,1,2)(0,0,0)[12] intercept   : AIC=9339.289, Time=2.57 sec\n",
      " ARIMA(2,1,2)(1,0,0)[12] intercept   : AIC=9340.745, Time=3.86 sec\n",
      " ARIMA(1,1,2)(0,0,0)[12] intercept   : AIC=9346.327, Time=1.10 sec\n",
      " ARIMA(2,1,1)(0,0,0)[12] intercept   : AIC=9346.330, Time=0.95 sec\n",
      " ARIMA(3,1,2)(0,0,0)[12] intercept   : AIC=inf, Time=3.88 sec\n",
      " ARIMA(2,1,3)(0,0,0)[12] intercept   : AIC=9334.988, Time=2.59 sec\n",
      " ARIMA(2,1,3)(1,0,0)[12] intercept   : AIC=9336.518, Time=3.10 sec\n",
      " ARIMA(2,1,3)(0,0,1)[12] intercept   : AIC=9336.549, Time=5.55 sec\n",
      " ARIMA(2,1,3)(1,0,1)[12] intercept   : AIC=9337.935, Time=9.13 sec\n",
      " ARIMA(1,1,3)(0,0,0)[12] intercept   : AIC=9333.515, Time=1.30 sec\n",
      " ARIMA(1,1,3)(1,0,0)[12] intercept   : AIC=9334.984, Time=2.50 sec\n",
      " ARIMA(1,1,3)(0,0,1)[12] intercept   : AIC=9335.020, Time=2.74 sec\n",
      " ARIMA(1,1,3)(1,0,1)[12] intercept   : AIC=9336.329, Time=3.13 sec\n",
      " ARIMA(0,1,3)(0,0,0)[12] intercept   : AIC=9338.363, Time=0.44 sec\n",
      " ARIMA(1,1,4)(0,0,0)[12] intercept   : AIC=9339.210, Time=2.51 sec\n",
      " ARIMA(0,1,2)(0,0,0)[12] intercept   : AIC=9348.252, Time=0.35 sec\n",
      " ARIMA(0,1,4)(0,0,0)[12] intercept   : AIC=9339.548, Time=0.52 sec\n",
      " ARIMA(2,1,4)(0,0,0)[12] intercept   : AIC=9336.945, Time=1.79 sec\n",
      " ARIMA(1,1,3)(0,0,0)[12]             : AIC=9335.889, Time=0.57 sec\n",
      "\n",
      "Best model:  ARIMA(1,1,3)(0,0,0)[12] intercept\n",
      "Total fit time: 61.017 seconds\n"
     ]
    }
   ],
   "source": [
    "print('< AutoArima >')\n",
    "cycle, model = autoarima(\n",
    "                train = train, \n",
    "                diff = diff,\n",
    "                m52 = 'x'\n",
    "               ) #계절성 주기와 모델 저장"
   ]
  },
  {
   "cell_type": "code",
   "execution_count": 37,
   "id": "c4ed6782-2a3a-419e-9ca4-0e0158564ecd",
   "metadata": {},
   "outputs": [
    {
     "name": "stdout",
     "output_type": "stream",
     "text": [
      "< Auto Arima Model >\n",
      " ARIMA(3,1,1)(2,0,2)[7] intercept\n"
     ]
    }
   ],
   "source": [
    "print('< Auto Arima Model >', model, sep = '\\n')"
   ]
  },
  {
   "cell_type": "code",
   "execution_count": 38,
   "id": "d832bcd3-2fac-41c0-8515-4e9421665be7",
   "metadata": {},
   "outputs": [
    {
     "name": "stderr",
     "output_type": "stream",
     "text": [
      "C:\\Users\\mirae\\anaconda3\\lib\\site-packages\\statsmodels\\tsa\\base\\tsa_model.py:471: ValueWarning: A date index has been provided, but it has no associated frequency information and so will be ignored when e.g. forecasting.\n",
      "  self._init_dates(dates, freq)\n",
      "C:\\Users\\mirae\\anaconda3\\lib\\site-packages\\statsmodels\\tsa\\base\\tsa_model.py:471: ValueWarning: A date index has been provided, but it has no associated frequency information and so will be ignored when e.g. forecasting.\n",
      "  self._init_dates(dates, freq)\n"
     ]
    }
   ],
   "source": [
    "if cycle == 1:\n",
    "    \n",
    "    arima = ARIMA(train, order = model.order)\n",
    "    \n",
    "else:\n",
    "    \n",
    "    arima = SARIMAX(train, order = model.order, seasonal_order = model.seasonal_order)"
   ]
  },
  {
   "cell_type": "code",
   "execution_count": 39,
   "id": "817f29b8-2384-453f-a037-0da62d5deeb7",
   "metadata": {},
   "outputs": [
    {
     "name": "stderr",
     "output_type": "stream",
     "text": [
      "C:\\Users\\mirae\\anaconda3\\lib\\site-packages\\statsmodels\\base\\model.py:604: ConvergenceWarning: Maximum Likelihood optimization failed to converge. Check mle_retvals\n",
      "  warnings.warn(\"Maximum Likelihood optimization failed to \"\n"
     ]
    },
    {
     "name": "stdout",
     "output_type": "stream",
     "text": [
      "< ARIMA fit summary >\n",
      "                                       SARIMAX Results                                        \n",
      "==============================================================================================\n",
      "Dep. Variable:                                      y   No. Observations:                 3162\n",
      "Model:             SARIMAX(3, 1, 1)x(2, 0, [1, 2], 7)   Log Likelihood               -4631.396\n",
      "Date:                                Thu, 09 Feb 2023   AIC                           9280.791\n",
      "Time:                                        19:09:15   BIC                           9335.319\n",
      "Sample:                                             0   HQIC                          9300.353\n",
      "                                               - 3162                                         \n",
      "Covariance Type:                                  opg                                         \n",
      "==============================================================================\n",
      "                 coef    std err          z      P>|z|      [0.025      0.975]\n",
      "------------------------------------------------------------------------------\n",
      "ar.L1          0.7107      0.044     16.337      0.000       0.625       0.796\n",
      "ar.L2          0.0613      0.012      5.208      0.000       0.038       0.084\n",
      "ar.L3         -0.0603      0.010     -6.317      0.000      -0.079      -0.042\n",
      "ma.L1         -0.7792      0.044    -17.620      0.000      -0.866      -0.693\n",
      "ar.S.L7        0.0245      0.022      1.118      0.264      -0.019       0.068\n",
      "ar.S.L14      -0.8427      0.022    -38.331      0.000      -0.886      -0.800\n",
      "ma.S.L7        0.0448      0.021      2.163      0.031       0.004       0.085\n",
      "ma.S.L14       0.8805      0.020     44.312      0.000       0.842       0.919\n",
      "sigma2         1.0971      0.011    103.266      0.000       1.076       1.118\n",
      "===================================================================================\n",
      "Ljung-Box (L1) (Q):                   0.01   Jarque-Bera (JB):             21010.15\n",
      "Prob(Q):                              0.91   Prob(JB):                         0.00\n",
      "Heteroskedasticity (H):              40.06   Skew:                             0.11\n",
      "Prob(H) (two-sided):                  0.00   Kurtosis:                        15.63\n",
      "===================================================================================\n",
      "\n",
      "Warnings:\n",
      "[1] Covariance matrix calculated using the outer product of gradients (complex-step).\n"
     ]
    }
   ],
   "source": [
    "arima_fit = arima.fit()\n",
    "print('< ARIMA fit summary >')\n",
    "print(arima_fit.summary())"
   ]
  },
  {
   "cell_type": "code",
   "execution_count": 40,
   "id": "890ddddf-bcc8-42e6-9cf6-ac1f4d7885ef",
   "metadata": {},
   "outputs": [
    {
     "name": "stdout",
     "output_type": "stream",
     "text": [
      "< Diagnostic plots for standardized residuals >\n",
      "Figure(1152x648)\n"
     ]
    },
    {
     "data": {
      "image/png": "[encoded data removed]",
      "text/plain": [
       "<Figure size 1152x648 with 4 Axes>"
      ]
     },
     "metadata": {
      "needs_background": "light"
     },
     "output_type": "display_data"
    }
   ],
   "source": [
    "print('< Diagnostic plots for standardized residuals >')\n",
    "print(arima_fit.plot_diagnostics(figsize = (16,9)))"
   ]
  },
  {
   "cell_type": "code",
   "execution_count": 41,
   "id": "423432ca-602b-4c9e-bb24-be0859ce922f",
   "metadata": {},
   "outputs": [
    {
     "ename": "KeyError",
     "evalue": "'The `start` argument could not be matched to a location related to the index of the data.'",
     "output_type": "error",
     "traceback": [
      "\u001b[1;31m---------------------------------------------------------------------------\u001b[0m",
      "\u001b[1;31mKeyError\u001b[0m                                  Traceback (most recent call last)",
      "File \u001b[1;32m~\\anaconda3\\lib\\site-packages\\pandas\\_libs\\index.pyx:545\u001b[0m, in \u001b[0;36mpandas._libs.index.DatetimeEngine.get_loc\u001b[1;34m()\u001b[0m\n",
      "File \u001b[1;32mpandas\\_libs\\hashtable_class_helper.pxi:2131\u001b[0m, in \u001b[0;36mpandas._libs.hashtable.Int64HashTable.get_item\u001b[1;34m()\u001b[0m\n",
      "File \u001b[1;32mpandas\\_libs\\hashtable_class_helper.pxi:2140\u001b[0m, in \u001b[0;36mpandas._libs.hashtable.Int64HashTable.get_item\u001b[1;34m()\u001b[0m\n",
      "\u001b[1;31mKeyError\u001b[0m: 1092960000000000000",
      "\nDuring handling of the above exception, another exception occurred:\n",
      "\u001b[1;31mKeyError\u001b[0m                                  Traceback (most recent call last)",
      "File \u001b[1;32m~\\anaconda3\\lib\\site-packages\\pandas\\core\\indexes\\base.py:3621\u001b[0m, in \u001b[0;36mIndex.get_loc\u001b[1;34m(self, key, method, tolerance)\u001b[0m\n\u001b[0;32m   3620\u001b[0m \u001b[38;5;28;01mtry\u001b[39;00m:\n\u001b[1;32m-> 3621\u001b[0m     \u001b[38;5;28;01mreturn\u001b[39;00m \u001b[38;5;28;43mself\u001b[39;49m\u001b[38;5;241;43m.\u001b[39;49m\u001b[43m_engine\u001b[49m\u001b[38;5;241;43m.\u001b[39;49m\u001b[43mget_loc\u001b[49m\u001b[43m(\u001b[49m\u001b[43mcasted_key\u001b[49m\u001b[43m)\u001b[49m\n\u001b[0;32m   3622\u001b[0m \u001b[38;5;28;01mexcept\u001b[39;00m \u001b[38;5;167;01mKeyError\u001b[39;00m \u001b[38;5;28;01mas\u001b[39;00m err:\n",
      "File \u001b[1;32m~\\anaconda3\\lib\\site-packages\\pandas\\_libs\\index.pyx:513\u001b[0m, in \u001b[0;36mpandas._libs.index.DatetimeEngine.get_loc\u001b[1;34m()\u001b[0m\n",
      "File \u001b[1;32m~\\anaconda3\\lib\\site-packages\\pandas\\_libs\\index.pyx:547\u001b[0m, in \u001b[0;36mpandas._libs.index.DatetimeEngine.get_loc\u001b[1;34m()\u001b[0m\n",
      "\u001b[1;31mKeyError\u001b[0m: Timestamp('2004-08-20 00:00:00')",
      "\nThe above exception was the direct cause of the following exception:\n",
      "\u001b[1;31mKeyError\u001b[0m                                  Traceback (most recent call last)",
      "File \u001b[1;32m~\\anaconda3\\lib\\site-packages\\pandas\\core\\indexes\\datetimes.py:679\u001b[0m, in \u001b[0;36mDatetimeIndex.get_loc\u001b[1;34m(self, key, method, tolerance)\u001b[0m\n\u001b[0;32m    678\u001b[0m \u001b[38;5;28;01mtry\u001b[39;00m:\n\u001b[1;32m--> 679\u001b[0m     \u001b[38;5;28;01mreturn\u001b[39;00m \u001b[43mIndex\u001b[49m\u001b[38;5;241;43m.\u001b[39;49m\u001b[43mget_loc\u001b[49m\u001b[43m(\u001b[49m\u001b[38;5;28;43mself\u001b[39;49m\u001b[43m,\u001b[49m\u001b[43m \u001b[49m\u001b[43mkey\u001b[49m\u001b[43m,\u001b[49m\u001b[43m \u001b[49m\u001b[43mmethod\u001b[49m\u001b[43m,\u001b[49m\u001b[43m \u001b[49m\u001b[43mtolerance\u001b[49m\u001b[43m)\u001b[49m\n\u001b[0;32m    680\u001b[0m \u001b[38;5;28;01mexcept\u001b[39;00m \u001b[38;5;167;01mKeyError\u001b[39;00m \u001b[38;5;28;01mas\u001b[39;00m err:\n",
      "File \u001b[1;32m~\\anaconda3\\lib\\site-packages\\pandas\\core\\indexes\\base.py:3623\u001b[0m, in \u001b[0;36mIndex.get_loc\u001b[1;34m(self, key, method, tolerance)\u001b[0m\n\u001b[0;32m   3622\u001b[0m \u001b[38;5;28;01mexcept\u001b[39;00m \u001b[38;5;167;01mKeyError\u001b[39;00m \u001b[38;5;28;01mas\u001b[39;00m err:\n\u001b[1;32m-> 3623\u001b[0m     \u001b[38;5;28;01mraise\u001b[39;00m \u001b[38;5;167;01mKeyError\u001b[39;00m(key) \u001b[38;5;28;01mfrom\u001b[39;00m \u001b[38;5;21;01merr\u001b[39;00m\n\u001b[0;32m   3624\u001b[0m \u001b[38;5;28;01mexcept\u001b[39;00m \u001b[38;5;167;01mTypeError\u001b[39;00m:\n\u001b[0;32m   3625\u001b[0m     \u001b[38;5;66;03m# If we have a listlike key, _check_indexing_error will raise\u001b[39;00m\n\u001b[0;32m   3626\u001b[0m     \u001b[38;5;66;03m#  InvalidIndexError. Otherwise we fall through and re-raise\u001b[39;00m\n\u001b[0;32m   3627\u001b[0m     \u001b[38;5;66;03m#  the TypeError.\u001b[39;00m\n",
      "\u001b[1;31mKeyError\u001b[0m: Timestamp('2004-08-20 00:00:00')",
      "\nThe above exception was the direct cause of the following exception:\n",
      "\u001b[1;31mKeyError\u001b[0m                                  Traceback (most recent call last)",
      "File \u001b[1;32m~\\anaconda3\\lib\\site-packages\\statsmodels\\tsa\\base\\tsa_model.py:247\u001b[0m, in \u001b[0;36mget_index_label_loc\u001b[1;34m(key, index, row_labels)\u001b[0m\n\u001b[0;32m    246\u001b[0m \u001b[38;5;28;01mif\u001b[39;00m \u001b[38;5;129;01mnot\u001b[39;00m \u001b[38;5;28misinstance\u001b[39m(key, (\u001b[38;5;28mint\u001b[39m, np\u001b[38;5;241m.\u001b[39minteger)):\n\u001b[1;32m--> 247\u001b[0m     loc \u001b[38;5;241m=\u001b[39m \u001b[43mrow_labels\u001b[49m\u001b[38;5;241;43m.\u001b[39;49m\u001b[43mget_loc\u001b[49m\u001b[43m(\u001b[49m\u001b[43mkey\u001b[49m\u001b[43m)\u001b[49m\n\u001b[0;32m    248\u001b[0m \u001b[38;5;28;01melse\u001b[39;00m:\n",
      "File \u001b[1;32m~\\anaconda3\\lib\\site-packages\\pandas\\core\\indexes\\datetimes.py:681\u001b[0m, in \u001b[0;36mDatetimeIndex.get_loc\u001b[1;34m(self, key, method, tolerance)\u001b[0m\n\u001b[0;32m    680\u001b[0m \u001b[38;5;28;01mexcept\u001b[39;00m \u001b[38;5;167;01mKeyError\u001b[39;00m \u001b[38;5;28;01mas\u001b[39;00m err:\n\u001b[1;32m--> 681\u001b[0m     \u001b[38;5;28;01mraise\u001b[39;00m \u001b[38;5;167;01mKeyError\u001b[39;00m(orig_key) \u001b[38;5;28;01mfrom\u001b[39;00m \u001b[38;5;21;01merr\u001b[39;00m\n",
      "\u001b[1;31mKeyError\u001b[0m: Timestamp('2004-08-20 00:00:00')",
      "\nDuring handling of the above exception, another exception occurred:\n",
      "\u001b[1;31mKeyError\u001b[0m                                  Traceback (most recent call last)",
      "File \u001b[1;32m~\\anaconda3\\lib\\site-packages\\statsmodels\\tsa\\base\\tsa_model.py:356\u001b[0m, in \u001b[0;36mget_prediction_index\u001b[1;34m(start, end, nobs, base_index, index, silent, index_none, index_generated, data)\u001b[0m\n\u001b[0;32m    355\u001b[0m \u001b[38;5;28;01mtry\u001b[39;00m:\n\u001b[1;32m--> 356\u001b[0m     start, _, start_oos \u001b[38;5;241m=\u001b[39m \u001b[43mget_index_label_loc\u001b[49m\u001b[43m(\u001b[49m\n\u001b[0;32m    357\u001b[0m \u001b[43m        \u001b[49m\u001b[43mstart\u001b[49m\u001b[43m,\u001b[49m\u001b[43m \u001b[49m\u001b[43mbase_index\u001b[49m\u001b[43m,\u001b[49m\u001b[43m \u001b[49m\u001b[43mdata\u001b[49m\u001b[38;5;241;43m.\u001b[39;49m\u001b[43mrow_labels\u001b[49m\n\u001b[0;32m    358\u001b[0m \u001b[43m    \u001b[49m\u001b[43m)\u001b[49m\n\u001b[0;32m    359\u001b[0m \u001b[38;5;28;01mexcept\u001b[39;00m \u001b[38;5;167;01mKeyError\u001b[39;00m:\n",
      "File \u001b[1;32m~\\anaconda3\\lib\\site-packages\\statsmodels\\tsa\\base\\tsa_model.py:279\u001b[0m, in \u001b[0;36mget_index_label_loc\u001b[1;34m(key, index, row_labels)\u001b[0m\n\u001b[0;32m    278\u001b[0m     \u001b[38;5;28;01mexcept\u001b[39;00m:\n\u001b[1;32m--> 279\u001b[0m         \u001b[38;5;28;01mraise\u001b[39;00m e\n\u001b[0;32m    280\u001b[0m \u001b[38;5;28;01mreturn\u001b[39;00m loc, index, index_was_expanded\n",
      "File \u001b[1;32m~\\anaconda3\\lib\\site-packages\\statsmodels\\tsa\\base\\tsa_model.py:243\u001b[0m, in \u001b[0;36mget_index_label_loc\u001b[1;34m(key, index, row_labels)\u001b[0m\n\u001b[0;32m    242\u001b[0m \u001b[38;5;28;01mtry\u001b[39;00m:\n\u001b[1;32m--> 243\u001b[0m     loc, index, index_was_expanded \u001b[38;5;241m=\u001b[39m \u001b[43mget_index_loc\u001b[49m\u001b[43m(\u001b[49m\u001b[43mkey\u001b[49m\u001b[43m,\u001b[49m\u001b[43m \u001b[49m\u001b[43mindex\u001b[49m\u001b[43m)\u001b[49m\n\u001b[0;32m    244\u001b[0m \u001b[38;5;28;01mexcept\u001b[39;00m \u001b[38;5;167;01mKeyError\u001b[39;00m \u001b[38;5;28;01mas\u001b[39;00m e:\n",
      "File \u001b[1;32m~\\anaconda3\\lib\\site-packages\\statsmodels\\tsa\\base\\tsa_model.py:193\u001b[0m, in \u001b[0;36mget_index_loc\u001b[1;34m(key, index)\u001b[0m\n\u001b[0;32m    192\u001b[0m \u001b[38;5;28;01mexcept\u001b[39;00m (\u001b[38;5;167;01mIndexError\u001b[39;00m, \u001b[38;5;167;01mValueError\u001b[39;00m) \u001b[38;5;28;01mas\u001b[39;00m e:\n\u001b[1;32m--> 193\u001b[0m     \u001b[38;5;28;01mraise\u001b[39;00m \u001b[38;5;167;01mKeyError\u001b[39;00m(\u001b[38;5;28mstr\u001b[39m(e))\n\u001b[0;32m    194\u001b[0m loc \u001b[38;5;241m=\u001b[39m key\n",
      "\u001b[1;31mKeyError\u001b[0m: 'only integers, slices (`:`), ellipsis (`...`), numpy.newaxis (`None`) and integer or boolean arrays are valid indices'",
      "\nDuring handling of the above exception, another exception occurred:\n",
      "\u001b[1;31mKeyError\u001b[0m                                  Traceback (most recent call last)",
      "Input \u001b[1;32mIn [41]\u001b[0m, in \u001b[0;36m<cell line: 1>\u001b[1;34m()\u001b[0m\n\u001b[1;32m----> 1\u001b[0m future_forecast \u001b[38;5;241m=\u001b[39m \u001b[43marima_fit\u001b[49m\u001b[38;5;241;43m.\u001b[39;49m\u001b[43mpredict\u001b[49m\u001b[43m(\u001b[49m\n\u001b[0;32m      2\u001b[0m \u001b[43m                        \u001b[49m\u001b[43mstart\u001b[49m\u001b[43m \u001b[49m\u001b[38;5;241;43m=\u001b[39;49m\u001b[43m \u001b[49m\u001b[43mtest\u001b[49m\u001b[38;5;241;43m.\u001b[39;49m\u001b[43mindex\u001b[49m\u001b[43m[\u001b[49m\u001b[38;5;241;43m0\u001b[39;49m\u001b[43m]\u001b[49m\u001b[43m,\u001b[49m\n\u001b[0;32m      3\u001b[0m \u001b[43m                        \u001b[49m\u001b[43mend\u001b[49m\u001b[43m \u001b[49m\u001b[38;5;241;43m=\u001b[39;49m\u001b[43m \u001b[49m\u001b[43mtest\u001b[49m\u001b[38;5;241;43m.\u001b[39;49m\u001b[43mindex\u001b[49m\u001b[43m[\u001b[49m\u001b[38;5;241;43m-\u001b[39;49m\u001b[38;5;241;43m1\u001b[39;49m\u001b[43m]\u001b[49m\u001b[43m,\u001b[49m\n\u001b[0;32m      4\u001b[0m \u001b[43m                        \u001b[49m\u001b[43mtyp\u001b[49m\u001b[38;5;241;43m=\u001b[39;49m\u001b[38;5;124;43m'\u001b[39;49m\u001b[38;5;124;43mlevels\u001b[39;49m\u001b[38;5;124;43m'\u001b[39;49m\n\u001b[0;32m      5\u001b[0m \u001b[43m                  \u001b[49m\u001b[43m)\u001b[49m\n",
      "File \u001b[1;32m~\\anaconda3\\lib\\site-packages\\statsmodels\\base\\wrapper.py:113\u001b[0m, in \u001b[0;36mmake_wrapper.<locals>.wrapper\u001b[1;34m(self, *args, **kwargs)\u001b[0m\n\u001b[0;32m    111\u001b[0m     obj \u001b[38;5;241m=\u001b[39m data\u001b[38;5;241m.\u001b[39mwrap_output(func(results, \u001b[38;5;241m*\u001b[39margs, \u001b[38;5;241m*\u001b[39m\u001b[38;5;241m*\u001b[39mkwargs), how[\u001b[38;5;241m0\u001b[39m], how[\u001b[38;5;241m1\u001b[39m:])\n\u001b[0;32m    112\u001b[0m \u001b[38;5;28;01melif\u001b[39;00m how:\n\u001b[1;32m--> 113\u001b[0m     obj \u001b[38;5;241m=\u001b[39m data\u001b[38;5;241m.\u001b[39mwrap_output(func(results, \u001b[38;5;241m*\u001b[39margs, \u001b[38;5;241m*\u001b[39m\u001b[38;5;241m*\u001b[39mkwargs), how)\n\u001b[0;32m    114\u001b[0m \u001b[38;5;28;01mreturn\u001b[39;00m obj\n",
      "File \u001b[1;32m~\\anaconda3\\lib\\site-packages\\statsmodels\\tsa\\statespace\\mlemodel.py:3403\u001b[0m, in \u001b[0;36mMLEResults.predict\u001b[1;34m(self, start, end, dynamic, **kwargs)\u001b[0m\n\u001b[0;32m   3357\u001b[0m \u001b[38;5;124;03m\"\"\"\u001b[39;00m\n\u001b[0;32m   3358\u001b[0m \u001b[38;5;124;03mIn-sample prediction and out-of-sample forecasting\u001b[39;00m\n\u001b[0;32m   3359\u001b[0m \n\u001b[1;32m   (...)\u001b[0m\n\u001b[0;32m   3400\u001b[0m \u001b[38;5;124;03m    including confidence intervals.\u001b[39;00m\n\u001b[0;32m   3401\u001b[0m \u001b[38;5;124;03m\"\"\"\u001b[39;00m\n\u001b[0;32m   3402\u001b[0m \u001b[38;5;66;03m# Perform the prediction\u001b[39;00m\n\u001b[1;32m-> 3403\u001b[0m prediction_results \u001b[38;5;241m=\u001b[39m \u001b[38;5;28mself\u001b[39m\u001b[38;5;241m.\u001b[39mget_prediction(start, end, dynamic, \u001b[38;5;241m*\u001b[39m\u001b[38;5;241m*\u001b[39mkwargs)\n\u001b[0;32m   3404\u001b[0m \u001b[38;5;28;01mreturn\u001b[39;00m prediction_results\u001b[38;5;241m.\u001b[39mpredicted_mean\n",
      "File \u001b[1;32m~\\anaconda3\\lib\\site-packages\\statsmodels\\tsa\\statespace\\mlemodel.py:3287\u001b[0m, in \u001b[0;36mMLEResults.get_prediction\u001b[1;34m(self, start, end, dynamic, index, exog, extend_model, extend_kwargs, **kwargs)\u001b[0m\n\u001b[0;32m   3283\u001b[0m     start \u001b[38;5;241m=\u001b[39m \u001b[38;5;241m0\u001b[39m\n\u001b[0;32m   3285\u001b[0m \u001b[38;5;66;03m# Handle start, end, dynamic\u001b[39;00m\n\u001b[0;32m   3286\u001b[0m start, end, out_of_sample, prediction_index \u001b[38;5;241m=\u001b[39m (\n\u001b[1;32m-> 3287\u001b[0m     \u001b[38;5;28;43mself\u001b[39;49m\u001b[38;5;241;43m.\u001b[39;49m\u001b[43mmodel\u001b[49m\u001b[38;5;241;43m.\u001b[39;49m\u001b[43m_get_prediction_index\u001b[49m\u001b[43m(\u001b[49m\u001b[43mstart\u001b[49m\u001b[43m,\u001b[49m\u001b[43m \u001b[49m\u001b[43mend\u001b[49m\u001b[43m,\u001b[49m\u001b[43m \u001b[49m\u001b[43mindex\u001b[49m\u001b[43m)\u001b[49m)\n\u001b[0;32m   3289\u001b[0m \u001b[38;5;66;03m# Handle `dynamic`\u001b[39;00m\n\u001b[0;32m   3290\u001b[0m \u001b[38;5;28;01mif\u001b[39;00m \u001b[38;5;28misinstance\u001b[39m(dynamic, (\u001b[38;5;28mstr\u001b[39m, dt\u001b[38;5;241m.\u001b[39mdatetime, pd\u001b[38;5;241m.\u001b[39mTimestamp)):\n",
      "File \u001b[1;32m~\\anaconda3\\lib\\site-packages\\statsmodels\\tsa\\base\\tsa_model.py:834\u001b[0m, in \u001b[0;36mTimeSeriesModel._get_prediction_index\u001b[1;34m(self, start, end, index, silent)\u001b[0m\n\u001b[0;32m    778\u001b[0m \u001b[38;5;124;03m\"\"\"\u001b[39;00m\n\u001b[0;32m    779\u001b[0m \u001b[38;5;124;03mGet the location of a specific key in an index or model row labels\u001b[39;00m\n\u001b[0;32m    780\u001b[0m \n\u001b[1;32m   (...)\u001b[0m\n\u001b[0;32m    831\u001b[0m \u001b[38;5;124;03msince we have required them to be full indexes, there is no ambiguity).\u001b[39;00m\n\u001b[0;32m    832\u001b[0m \u001b[38;5;124;03m\"\"\"\u001b[39;00m\n\u001b[0;32m    833\u001b[0m nobs \u001b[38;5;241m=\u001b[39m \u001b[38;5;28mlen\u001b[39m(\u001b[38;5;28mself\u001b[39m\u001b[38;5;241m.\u001b[39mendog)\n\u001b[1;32m--> 834\u001b[0m \u001b[38;5;28;01mreturn\u001b[39;00m \u001b[43mget_prediction_index\u001b[49m\u001b[43m(\u001b[49m\n\u001b[0;32m    835\u001b[0m \u001b[43m    \u001b[49m\u001b[43mstart\u001b[49m\u001b[43m,\u001b[49m\n\u001b[0;32m    836\u001b[0m \u001b[43m    \u001b[49m\u001b[43mend\u001b[49m\u001b[43m,\u001b[49m\n\u001b[0;32m    837\u001b[0m \u001b[43m    \u001b[49m\u001b[43mnobs\u001b[49m\u001b[43m,\u001b[49m\n\u001b[0;32m    838\u001b[0m \u001b[43m    \u001b[49m\u001b[43mbase_index\u001b[49m\u001b[38;5;241;43m=\u001b[39;49m\u001b[38;5;28;43mself\u001b[39;49m\u001b[38;5;241;43m.\u001b[39;49m\u001b[43m_index\u001b[49m\u001b[43m,\u001b[49m\n\u001b[0;32m    839\u001b[0m \u001b[43m    \u001b[49m\u001b[43mindex\u001b[49m\u001b[38;5;241;43m=\u001b[39;49m\u001b[43mindex\u001b[49m\u001b[43m,\u001b[49m\n\u001b[0;32m    840\u001b[0m \u001b[43m    \u001b[49m\u001b[43msilent\u001b[49m\u001b[38;5;241;43m=\u001b[39;49m\u001b[43msilent\u001b[49m\u001b[43m,\u001b[49m\n\u001b[0;32m    841\u001b[0m \u001b[43m    \u001b[49m\u001b[43mindex_none\u001b[49m\u001b[38;5;241;43m=\u001b[39;49m\u001b[38;5;28;43mself\u001b[39;49m\u001b[38;5;241;43m.\u001b[39;49m\u001b[43m_index_none\u001b[49m\u001b[43m,\u001b[49m\n\u001b[0;32m    842\u001b[0m \u001b[43m    \u001b[49m\u001b[43mindex_generated\u001b[49m\u001b[38;5;241;43m=\u001b[39;49m\u001b[38;5;28;43mself\u001b[39;49m\u001b[38;5;241;43m.\u001b[39;49m\u001b[43m_index_generated\u001b[49m\u001b[43m,\u001b[49m\n\u001b[0;32m    843\u001b[0m \u001b[43m    \u001b[49m\u001b[43mdata\u001b[49m\u001b[38;5;241;43m=\u001b[39;49m\u001b[38;5;28;43mself\u001b[39;49m\u001b[38;5;241;43m.\u001b[39;49m\u001b[43mdata\u001b[49m\u001b[43m,\u001b[49m\n\u001b[0;32m    844\u001b[0m \u001b[43m\u001b[49m\u001b[43m)\u001b[49m\n",
      "File \u001b[1;32m~\\anaconda3\\lib\\site-packages\\statsmodels\\tsa\\base\\tsa_model.py:360\u001b[0m, in \u001b[0;36mget_prediction_index\u001b[1;34m(start, end, nobs, base_index, index, silent, index_none, index_generated, data)\u001b[0m\n\u001b[0;32m    356\u001b[0m     start, _, start_oos \u001b[38;5;241m=\u001b[39m get_index_label_loc(\n\u001b[0;32m    357\u001b[0m         start, base_index, data\u001b[38;5;241m.\u001b[39mrow_labels\n\u001b[0;32m    358\u001b[0m     )\n\u001b[0;32m    359\u001b[0m \u001b[38;5;28;01mexcept\u001b[39;00m \u001b[38;5;167;01mKeyError\u001b[39;00m:\n\u001b[1;32m--> 360\u001b[0m     \u001b[38;5;28;01mraise\u001b[39;00m \u001b[38;5;167;01mKeyError\u001b[39;00m(\n\u001b[0;32m    361\u001b[0m         \u001b[38;5;124m\"\u001b[39m\u001b[38;5;124mThe `start` argument could not be matched to a\u001b[39m\u001b[38;5;124m\"\u001b[39m\n\u001b[0;32m    362\u001b[0m         \u001b[38;5;124m\"\u001b[39m\u001b[38;5;124m location related to the index of the data.\u001b[39m\u001b[38;5;124m\"\u001b[39m\n\u001b[0;32m    363\u001b[0m     )\n\u001b[0;32m    364\u001b[0m \u001b[38;5;28;01mif\u001b[39;00m end \u001b[38;5;129;01mis\u001b[39;00m \u001b[38;5;28;01mNone\u001b[39;00m:\n\u001b[0;32m    365\u001b[0m     end \u001b[38;5;241m=\u001b[39m \u001b[38;5;28mmax\u001b[39m(start, \u001b[38;5;28mlen\u001b[39m(base_index) \u001b[38;5;241m-\u001b[39m \u001b[38;5;241m1\u001b[39m)\n",
      "\u001b[1;31mKeyError\u001b[0m: 'The `start` argument could not be matched to a location related to the index of the data.'"
     ]
    }
   ],
   "source": [
    "future_forecast = arima_fit.predict(\n",
    "                        start = test.index[0],\n",
    "                        end = test.index[-1],\n",
    "                        typ='levels'\n",
    "                  )"
   ]
  },
  {
   "cell_type": "code",
   "execution_count": null,
   "id": "191c5962-8747-47ec-b01a-fcc079a86b00",
   "metadata": {},
   "outputs": [],
   "source": [
    "plt.plot(me, label='Original data')\n",
    "plt.plot(future_forecast, label='ARIMA model')\n",
    "\n",
    "plt.legend()\n",
    "plt.show()"
   ]
  },
  {
   "cell_type": "code",
   "execution_count": null,
   "id": "82114dea-fa6d-4f8d-8c7f-d3897001af85",
   "metadata": {},
   "outputs": [],
   "source": []
  },
  {
   "cell_type": "code",
   "execution_count": null,
   "id": "282b8d23-a856-4019-976b-33fdb0b387a8",
   "metadata": {},
   "outputs": [],
   "source": []
  }
 ],
 "metadata": {
  "kernelspec": {
   "display_name": "Python 3 (ipykernel)",
   "language": "python",
   "name": "python3"
  },
  "language_info": {
   "codemirror_mode": {
    "name": "ipython",
    "version": 3
   },
   "file_extension": ".py",
   "mimetype": "text/x-python",
   "name": "python",
   "nbconvert_exporter": "python",
   "pygments_lexer": "ipython3",
   "version": "3.9.12"
  }
 },
 "nbformat": 4,
 "nbformat_minor": 5
}
