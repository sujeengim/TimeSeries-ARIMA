{
 "cells": [
  {
   "cell_type": "code",
   "execution_count": null,
   "id": "07260484-aa29-4520-b8ac-94e82b830a2e",
   "metadata": {},
   "outputs": [],
   "source": [
    "pip install pmdarima"
   ]
  },
  {
   "cell_type": "code",
   "execution_count": null,
   "id": "a5f522fd-5628-4311-ae61-7baa47cbfc61",
   "metadata": {},
   "outputs": [],
   "source": [
    "import pandas as pd\n",
    "\n",
    "import numpy as np\n",
    "\n",
    "import matplotlib.pyplot as plt\n",
    "\n",
    "from pmdarima.arima import auto_arima\n",
    "from pmdarima.arima import ndiffs\n",
    "\n",
    "from statsmodels.graphics.tsaplots import plot_acf, plot_pacf\n",
    "from statsmodels.tsa.stattools import adfuller\n",
    "from statsmodels.tsa.arima.model import ARIMA\n",
    "from statsmodels.tsa.statespace.sarimax import SARIMAX"
   ]
  },
  {
   "cell_type": "code",
   "execution_count": null,
   "id": "d29385f9-13ae-4a31-9261-3df6e26a4dc5",
   "metadata": {},
   "outputs": [],
   "source": [
    "def adf_test(train):\n",
    "    stat, p_value, lags, nobs, crit, icb = adfuller(train)\n",
    "    return p_value"
   ]
  },
  {
   "cell_type": "code",
   "execution_count": null,
   "id": "ad7e9ebe-2383-4aac-a7a1-cf802709ba9d",
   "metadata": {},
   "outputs": [],
   "source": [
    "def diff(train, p_v1):\n",
    "    \n",
    "    kpss_diffs = ndiffs(train, alpha=0.05, test='kpss', max_d=6)\n",
    "    adf_diffs = ndiffs(train, alpha=0.05, test='adf', max_d=6)\n",
    "    d = max(adf_diffs, kpss_diffs)\n",
    "    print('.....ndiffs :', d)\n",
    "    \n",
    "    #차분\n",
    "    diff_train = train.diff(d) \n",
    "    diff_train = diff_train.dropna(axis=0)\n",
    "    p_v2 = adf_test(diff_train)\n",
    "    print('.....diff p_v :', p_v2)\n",
    "    \n",
    "    plot_acf(diff_train)\n",
    "    plot_pacf(diff_train, method='ywm')\n",
    "    \n",
    "    if p_v1 > p_v2:\n",
    "        return d\n",
    "    return 0"
   ]
  },
  {
   "cell_type": "code",
   "execution_count": null,
   "id": "7df188e9-286a-49f1-8ec3-23f8e1d24c11",
   "metadata": {},
   "outputs": [],
   "source": [
    "## 최적 모델 찾기\n",
    "\n",
    "def autoarima(train, diff, m52):\n",
    "\n",
    "    m_list = [1, 7, 12] #계절성 주기\n",
    "    if m52 == 'o':\n",
    "        m_list.append(52)\n",
    "    \n",
    "    model = None #모델\n",
    "    aic = 99999 #AIC\n",
    "    cycle = 1 #계절성 주기\n",
    "    \n",
    "    for m_test in m_list: #52까지 하면 웹꺼짐..\n",
    "        arima = auto_arima(\n",
    "                y = train, \n",
    "                # d = diff, #차분 횟수\n",
    "                m = m_test, \n",
    "                max_p=5, max_q=5,\n",
    "                seasonal = True, \n",
    "                trace = True,\n",
    "                error_action=\"ignore\"\n",
    "                )\n",
    "        if arima.aic() < aic:\n",
    "            aic = arima.aic()\n",
    "            model = arima\n",
    "            cycle = m_test\n",
    "            \n",
    "    return model"
   ]
  },
  {
   "cell_type": "code",
   "execution_count": null,
   "id": "f45dc50e-4b22-49de-9026-e87bb7b4d642",
   "metadata": {},
   "outputs": [],
   "source": [
    "data = pd.read_csv()"
   ]
  },
  {
   "cell_type": "code",
   "execution_count": null,
   "id": "9917bee8-4932-485f-af50-b831b47e8587",
   "metadata": {},
   "outputs": [],
   "source": [
    "split = int(0.7*len(data)) #7:3\n",
    "\n",
    "train = data[:split] #학습\n",
    "test = data[split:] #예측"
   ]
  },
  {
   "cell_type": "code",
   "execution_count": null,
   "id": "18d5fe3d-dd86-4386-875e-fcdfbc577ec4",
   "metadata": {},
   "outputs": [],
   "source": [
    "p_v1 = adf_test(train = train)\n",
    "print('.....original pvalue :', p_v1)"
   ]
  },
  {
   "cell_type": "code",
   "execution_count": null,
   "id": "63d942a5-9dee-4ef8-bfa1-be00e846add5",
   "metadata": {},
   "outputs": [],
   "source": [
    "plot_acf(train)\n",
    "plot_pacf(train, method='ywm')"
   ]
  },
  {
   "cell_type": "code",
   "execution_count": null,
   "id": "a6fa6d4c-93d5-4c73-8b6f-bcfa5a5c5f7e",
   "metadata": {},
   "outputs": [],
   "source": [
    "ndiff = diff(train = train, p_v1 = p_v1) #차분 횟수 저장"
   ]
  },
  {
   "cell_type": "code",
   "execution_count": null,
   "id": "5d5c8876-872c-4d22-a5bd-a1ca08738828",
   "metadata": {},
   "outputs": [],
   "source": [
    "print('< AutoArima >')\n",
    "model = autoarima(\n",
    "            train = train, \n",
    "            diff = ndiff,\n",
    "            m52 = 'x'\n",
    "        ) #모델 저장"
   ]
  },
  {
   "cell_type": "code",
   "execution_count": null,
   "id": "84bd5e2c-bdd4-49f5-b834-45ff76eb547a",
   "metadata": {},
   "outputs": [],
   "source": [
    "print('< Auto Arima Model >', model, sep = '\\n')"
   ]
  },
  {
   "cell_type": "code",
   "execution_count": null,
   "id": "2a333116-04dc-4fd0-a920-3f3f208e281b",
   "metadata": {},
   "outputs": [],
   "source": [
    "arima = SARIMAX(train, order = model.order, seasonal_order = model.seasonal_order)"
   ]
  },
  {
   "cell_type": "code",
   "execution_count": null,
   "id": "7c54e3bb-d652-463d-8a31-e3b09da49c12",
   "metadata": {},
   "outputs": [],
   "source": [
    "arima_fit = arima.fit()\n",
    "print('< ARIMA fit summary >')\n",
    "print(arima_fit.summary())"
   ]
  },
  {
   "cell_type": "code",
   "execution_count": null,
   "id": "4d64d7c3-93cc-4ee8-baea-279537e2ade4",
   "metadata": {},
   "outputs": [],
   "source": [
    "print('< Diagnostic plots for standardized residuals >')\n",
    "print(arima_fit.plot_diagnostics(figsize = (16,9)))"
   ]
  },
  {
   "cell_type": "code",
   "execution_count": null,
   "id": "8e59a783-35ee-489d-8ff8-f6054a1a48d5",
   "metadata": {},
   "outputs": [],
   "source": [
    "data['y_predict'] = arima_fit.predict(\n",
    "                            start = data.index[0],\n",
    "                            end = data.index[-1],\n",
    "                            dynamic=False,\n",
    "                            typ = 'levels'\n",
    "                       )\n",
    "                        \n",
    "data[['y','y_predict']].plot(figsize=(16,9))"
   ]
  }
 ],
 "metadata": {
  "kernelspec": {
   "display_name": "Python 3 (ipykernel)",
   "language": "python",
   "name": "python3"
  },
  "language_info": {
   "codemirror_mode": {
    "name": "ipython",
    "version": 3
   },
   "file_extension": ".py",
   "mimetype": "text/x-python",
   "name": "python",
   "nbconvert_exporter": "python",
   "pygments_lexer": "ipython3",
   "version": "3.9.12"
  }
 },
 "nbformat": 4,
 "nbformat_minor": 5
}
